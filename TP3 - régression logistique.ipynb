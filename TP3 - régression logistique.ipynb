{
 "cells": [
  {
   "cell_type": "markdown",
   "metadata": {
    "toc": true
   },
   "source": [
    "<h1>Table of Contents<span class=\"tocSkip\"></span></h1>\n",
    "<div class=\"toc\"><ul class=\"toc-item\"><li><span><a href=\"#Classification-binaire-par-régression-logistique-sur-des-données-2D-artificielles\" data-toc-modified-id=\"Classification-binaire-par-régression-logistique-sur-des-données-2D-artificielles-1\"><span class=\"toc-item-num\">1&nbsp;&nbsp;</span>Classification binaire par régression logistique sur des données 2D artificielles</a></span><ul class=\"toc-item\"><li><span><a href=\"#Génération-des-données\" data-toc-modified-id=\"Génération-des-données-1.1\"><span class=\"toc-item-num\">1.1&nbsp;&nbsp;</span>Génération des données</a></span></li><li><span><a href=\"#Régression-logistique-avec-la-librairie-scikit-learn\" data-toc-modified-id=\"Régression-logistique-avec-la-librairie-scikit-learn-1.2\"><span class=\"toc-item-num\">1.2&nbsp;&nbsp;</span>Régression logistique avec la librairie scikit-learn</a></span></li></ul></li><li><span><a href=\"#Classification-multi-classe-sur-le-dataset-MNIST\" data-toc-modified-id=\"Classification-multi-classe-sur-le-dataset-MNIST-2\"><span class=\"toc-item-num\">2&nbsp;&nbsp;</span>Classification multi-classe sur le dataset MNIST</a></span></li><li><span><a href=\"#Compléments\" data-toc-modified-id=\"Compléments-3\"><span class=\"toc-item-num\">3&nbsp;&nbsp;</span>Compléments</a></span><ul class=\"toc-item\"><li><span><a href=\"#Descente-de-gradient\" data-toc-modified-id=\"Descente-de-gradient-3.1\"><span class=\"toc-item-num\">3.1&nbsp;&nbsp;</span>Descente de gradient</a></span></li></ul></li></ul></div>"
   ]
  },
  {
   "cell_type": "markdown",
   "metadata": {},
   "source": [
    "# TP n°3: régression logistique, descente de gradient\n",
    "\n",
    "<br>\n",
    "\n",
    "Au cours de cette séance de TP nous allons nous intéresser à la méthode de classification par régression logistique. Cette méthode sera d'abord appliquée à des données 2D générées artificiellement (classification binaire) puis aux données du dataset MNIST (classification muti-classe). En complément, l'algorithme de régression logistique sera codé en implémentant une méthode de descente de gradient à pas constant.\n",
    "\n",
    "<br>"
   ]
  },
  {
   "cell_type": "markdown",
   "metadata": {},
   "source": [
    "<br>\n",
    "\n",
    "## Classification binaire par régression logistique sur des données 2D artificielles\n",
    "\n",
    "<br>\n",
    "\n",
    "### Génération des données\n",
    "\n",
    "<br>\n",
    "\n",
    "**Exercice**\n",
    "\n",
    "On souhaite tout d'abord créer une fonction permettant de générer 2 ensembles de points (classes A et B) à 2D distribués suivant une loi normale.\n",
    "\n",
    "- En utilisant la fonction <code>numpy.random.multivariate_normal()</code>, créez un ensemble de point à 2D distribués suivant une loi normale centrée en (0.5,0.5) et de matrice de covariance\n",
    "$$ \\Sigma = \\begin{pmatrix} 0.01 & 0 \\\\ 0 & 0.01 \\end{pmatrix} $$\n",
    "Représentez ce nuage de points sur un graphe.\n",
    "- Créez une fonction permettant de générer 2 ensembles de points à 2D distribués suivant une loi normale et renvoyant en sortie la matrice $X$ des données d'entrée et le vecteur $y$ des étiquettes ($y$=0 et 1 respectivement pour les classes A et B).\n",
    "- Représentez sur un graphe un ensemble de données pour lesquelles les 2 classes ne sont pas totalement séparables."
   ]
  },
  {
   "cell_type": "code",
   "execution_count": null,
   "metadata": {},
   "outputs": [],
   "source": []
  },
  {
   "cell_type": "code",
   "execution_count": null,
   "metadata": {},
   "outputs": [],
   "source": [
    "def create_data(center_A, sigma_A, N_A, center_B, sigma_B, N_B):\n",
    "    # ...\n",
    "    return None\n"
   ]
  },
  {
   "cell_type": "markdown",
   "metadata": {},
   "source": [
    "### Régression logistique avec la librairie scikit-learn\n",
    "\n",
    "Nous allons utiliser ici la fonction <code>LogisticRegression()</code> du module <code>linear_model</code> pour déterminer un modèle permettant de séparer linéairement les 2 classes.\n",
    "\n",
    "**Exercice**\n",
    "\n",
    "- Séparez les données en 1 jeu d'entraînement et 1 jeu de test.\n",
    "- Si l'on veut effectuer une régression logistique avec une régularisation très faible, faut-il donner au paramètre $C$ une valeur très grande ($\\sim 10^{15}$) ou très petite ($\\sim 10^{-15}$) ?\n",
    "- Déterminez les coefficients d'un modèle linéaire à l'aide d'une régression logistique.\n",
    "- Représentez sur un graphe les données et la droite correspondant à l'hyperplan séparateur des 2 classes.\n",
    "- Affichez les scores obtenus pour les données d'entraînement et de test. A quelle grandeur correspond la valeur renvoyée ?\n",
    "\n",
    "<br>\n"
   ]
  },
  {
   "cell_type": "code",
   "execution_count": null,
   "metadata": {},
   "outputs": [],
   "source": []
  },
  {
   "cell_type": "markdown",
   "metadata": {},
   "source": [
    "<br>\n",
    "\n",
    "**Exercice**\n",
    "\n",
    "- En effectuant une validation croisée avec recherche sur grille (utilisez la fonction <code>LogisticRegressionCV()</code>), déterminez le paramètre de régularisation optimal.\n",
    "- Comparez le score moyen obtenu lors de la validation croisée et celui obtenu sur l'ensemble de test.\n",
    "\n",
    "<br>\n"
   ]
  },
  {
   "cell_type": "code",
   "execution_count": null,
   "metadata": {},
   "outputs": [],
   "source": []
  },
  {
   "cell_type": "markdown",
   "metadata": {},
   "source": [
    "<br>\n",
    "\n",
    "## Classification multi-classe sur le dataset MNIST\n",
    "\n",
    "<br>\n",
    "\n",
    "Le jeu de données MNIST contient 70000 images de chiffres manuscrits (entre 0 et 9). Les images, originellement 28$\\times$28 pixels, sont codées sous la forme d'un vecteur à 784 composantes comprises entre 0 et 255. Le code suivant permet d'importer les donnée MNIST sous la forme d'une matrice $X$ de dimension 70000 $\\times$ 784 et un vecteur $y$ de dimension 70000.\n",
    "\n",
    "<br>"
   ]
  },
  {
   "cell_type": "code",
   "execution_count": null,
   "metadata": {},
   "outputs": [],
   "source": [
    "from sklearn.datasets import fetch_openml\n",
    "X, y = fetch_openml('mnist_784', version=1, return_X_y=True, as_frame=False)"
   ]
  },
  {
   "cell_type": "markdown",
   "metadata": {},
   "source": [
    "<br>\n",
    "\n",
    "Afin d'alléger les calculs, nous allons tout d'abord travailler sur un sous-ensemble de ces données.\n",
    "\n",
    "<br>\n",
    "\n",
    "**Exercice** \n",
    "\n",
    "- Préparez un jeu d'entraînement et un jeu de test contenant respectivement 7500 et 2500 données tirées aléatoirement dans les données initiales.\n",
    "- Modifiez les données d'entrée afin que la valeur de l'intensité de chaque pixel soit codée sous la forme d'un nombre compris entre 0 et 1.\n",
    "\n",
    "<br>\n"
   ]
  },
  {
   "cell_type": "code",
   "execution_count": null,
   "metadata": {},
   "outputs": [],
   "source": []
  },
  {
   "cell_type": "markdown",
   "metadata": {},
   "source": [
    "<br>\n",
    "\n",
    "**Exercice**\n",
    "\n",
    "Représentez sur un graphe les images correspondant aux 18 premières données de votre jeu d'entraînement.\n",
    "\n",
    "<br>\n"
   ]
  },
  {
   "cell_type": "code",
   "execution_count": null,
   "metadata": {},
   "outputs": [],
   "source": []
  },
  {
   "cell_type": "markdown",
   "metadata": {},
   "source": [
    "<br>\n",
    "\n",
    "**Exercice**\n",
    "\n",
    "- Effectuez une régression logistique et déterminez les scores d'entraînement et de test. Dans un premier temps, on utilisera une régularisation de type $\\ell_2$ avec un paramètre $C$ très grand ($\\sim 10^{15}$) et on règlera le paramètre *tol* à 0,01. Quel est le rôle du paramètre *tol* ?\n",
    "- Que peut-on déduire de ces résultats ? S'il y a un problème, comment peut-on essayer de le résoudre ?\n",
    "\n",
    "<br>\n"
   ]
  },
  {
   "cell_type": "code",
   "execution_count": null,
   "metadata": {},
   "outputs": [],
   "source": []
  },
  {
   "cell_type": "markdown",
   "metadata": {},
   "source": [
    "\n",
    "\n",
    "<br>\n",
    "\n",
    "**Exercice**\n",
    "\n",
    "- Effectuez une régression logistique en faisant varier le paramètre de régularisation entre 10$^{-5}$ et 10$^5$ (choisir 11 valeurs).\n",
    "- Représentez sur un graphe les scores obtenus avec les données d'entraînement et de test.\n",
    "- Que peut-on en déduire ? Pour quelle raison l'utilisation de ces courbes ne constitue t-elle pas une bonne méthode pour déterminer la valeur optimale du paramètre de régularisation ? Quelle méthode faudrait-il en fait utiliser ?\n",
    "\n",
    "<br>\n"
   ]
  },
  {
   "cell_type": "code",
   "execution_count": null,
   "metadata": {},
   "outputs": [],
   "source": []
  },
  {
   "cell_type": "code",
   "execution_count": null,
   "metadata": {},
   "outputs": [],
   "source": []
  },
  {
   "cell_type": "code",
   "execution_count": null,
   "metadata": {},
   "outputs": [],
   "source": []
  },
  {
   "cell_type": "code",
   "execution_count": null,
   "metadata": {},
   "outputs": [],
   "source": []
  },
  {
   "cell_type": "markdown",
   "metadata": {},
   "source": [
    "<br>\n",
    "\n",
    "## Compléments\n",
    "\n",
    "<br>\n",
    "\n",
    "### Descente de gradient\n",
    "\n",
    "Dans cette partie nous allons nous intéresser au processus d'optimisation permettant de déterminer la valeur des paramètres du modèle. Une optimisation par descente de gradient s'effectue en initialisant aléatoirement les coefficients du modèle puis en les faisant varier itérativement selon le schéma\n",
    "\n",
    "$$ \\text{itération}\\;k : \\;\\; w_k \\;\\; \\rightarrow \\;\\; w_k \\;-\\; \\eta_k\\,\\nabla_w\\tilde{R}(w_k) $$\n",
    "\n",
    "<br>\n",
    "\n",
    "où $\\eta_k$ est appelé *taux d'apprentissage*. Dans la version la plus simple (donc la moins efficace), ce taux d'apprentissage est une constante choisie par l'utilisateur. On note:\n",
    "\n",
    "- $w = (w_0,w_1,\\dots,w_d)$ le vecteur des coefficients du modèle linéaire (en dimension $d$)\n",
    "- $x^{(i)} = (1, x^{(i)}_1, \\dots, x^{(i)}_d)$ la $i$-ème donnée $x$ à laquelle on a ajouté une composante 1\n",
    "- $y^{(i)} \\in \\{0,1\\}$ l'étiquette associée à la donnée $(i)$\n",
    "\n",
    "Dans ces conditions, on peut montrer (voir cours) que dans le cas de la régression logistique le risque empirique s'écrit sous la forme\n",
    "$$ \\tilde{R}(w) \\;=\\; \\sum_{i=1}^N \\, \\bigg[ -y^{(i)}\\langle w,x^{(i)} \\rangle \\;+\\; \\ln(1+e^{\\langle w,x^{(i)} \\rangle}) \\bigg] $$\n",
    "\n",
    "En dérivant cette expression par rapport à $w$ on montre que le gradient du risque s'écrit\n",
    "$$ \\nabla_w\\tilde{R} \\;=\\; -\\, \\sum_{i=1}^N \\, x^{(i)} \\, \\bigg( y^{(i)} - \\frac{e^{\\langle w,x^{(i)} \\rangle}}{1+e^{\\langle w,x^{(i)} \\rangle}} \\bigg) $$\n",
    "\n",
    "**Exercice**\n",
    "- Ecrire une fonction calculant la valeur du risque empirique et le gradient de ce risque.\n",
    "- Pour un nouveau jeu de données 2D $(X,y)$, telles que celles créées dans la première partie du TP, utilisez les fonctions précédemment créées afin de déterminer les coefficients qui minimisent le risque empirique. Vous pouvez commencer en prenant un taux d'apprentissage de 0,01 puis tester d'autres valeurs. Arrêtez le processus d'optimisation lorsque la variation relative de la fonction de coût devient inférieure à 10$^{-5}$ entre 2 itérations successives.\n",
    "- Représentez sur un graphe l'évolution du risque et des coefficients du modèle au cours des itérations.\n",
    "- Représentez sur un graphe les données ainsi que la droite séparant les 2 classes.\n",
    "\n",
    "<br>\n"
   ]
  },
  {
   "cell_type": "code",
   "execution_count": null,
   "metadata": {},
   "outputs": [],
   "source": []
  },
  {
   "cell_type": "code",
   "execution_count": null,
   "metadata": {},
   "outputs": [],
   "source": []
  },
  {
   "cell_type": "code",
   "execution_count": null,
   "metadata": {},
   "outputs": [],
   "source": []
  },
  {
   "cell_type": "code",
   "execution_count": null,
   "metadata": {},
   "outputs": [],
   "source": []
  },
  {
   "cell_type": "markdown",
   "metadata": {},
   "source": [
    "<br>\n",
    "\n",
    "### Régularisation: $\\ell_1$ vs $\\ell_2$\n",
    "\n",
    "<br>\n",
    "\n",
    "Pour cet exercice, utilisez la fonction <code>LogisticRegression()</code> de scikit-learn.\n",
    "\n",
    "**Exercice**\n",
    "\n",
    "- Comparez l'évolution du score de test et du pourcentage de coefficients non nuls en fonction de la valeur du paramètre de régularisation, dans le cas d'une régularisation $\\ell_1$ et d'une régularisation $\\ell_2$.<br>\n",
    "- Déduire des résultats obtenus avec la régularisation $\\ell_1$ le nombre de composantes d'entrée que l'on peut enlever sans réduire significativement le score de test.\n",
    "\n",
    "Conseils:\n",
    "- Commencez par tester votre code avec un petit nombre (3 ou 4) de valeurs du paramètre de régularisation.\n",
    "- Mettez le code calculant le score en fonction du paramètre de régularisation dans une cellule, et les commandes pour tracer les graphes dans une autre cellule.\n",
    "\n",
    "<br>\n"
   ]
  },
  {
   "cell_type": "code",
   "execution_count": null,
   "metadata": {},
   "outputs": [],
   "source": []
  },
  {
   "cell_type": "code",
   "execution_count": null,
   "metadata": {},
   "outputs": [],
   "source": []
  },
  {
   "cell_type": "markdown",
   "metadata": {},
   "source": [
    "<br>\n",
    "\n",
    "**Exercice**\n",
    "\n",
    "- Modifiez la fonction que vous avez créée pour calculer le risque empirique et son gradient afin d'y ajouter un terme de régularisation.\n",
    "- Etudiez l'effet du terme de régularisation sur l'entraînement du modèle.\n",
    "\n",
    "<br>"
   ]
  },
  {
   "cell_type": "code",
   "execution_count": null,
   "metadata": {},
   "outputs": [],
   "source": []
  },
  {
   "cell_type": "code",
   "execution_count": null,
   "metadata": {},
   "outputs": [],
   "source": []
  },
  {
   "cell_type": "code",
   "execution_count": null,
   "metadata": {},
   "outputs": [],
   "source": []
  }
 ],
 "metadata": {
  "hide_input": false,
  "kernelspec": {
   "display_name": "Python 3",
   "language": "python",
   "name": "python3"
  },
  "language_info": {
   "codemirror_mode": {
    "name": "ipython",
    "version": 3
   },
   "file_extension": ".py",
   "mimetype": "text/x-python",
   "name": "python",
   "nbconvert_exporter": "python",
   "pygments_lexer": "ipython3",
   "version": "3.7.3"
  },
  "latex_envs": {
   "LaTeX_envs_menu_present": true,
   "autoclose": false,
   "autocomplete": true,
   "bibliofile": "biblio.bib",
   "cite_by": "apalike",
   "current_citInitial": 1,
   "eqLabelWithNumbers": true,
   "eqNumInitial": 1,
   "hotkeys": {
    "equation": "Ctrl-E",
    "itemize": "Ctrl-I"
   },
   "labels_anchors": false,
   "latex_user_defs": false,
   "report_style_numbering": false,
   "user_envs_cfg": false
  },
  "toc": {
   "base_numbering": 1,
   "nav_menu": {},
   "number_sections": true,
   "sideBar": false,
   "skip_h1_title": true,
   "title_cell": "Table of Contents",
   "title_sidebar": "Contents",
   "toc_cell": true,
   "toc_position": {},
   "toc_section_display": false,
   "toc_window_display": true
  }
 },
 "nbformat": 4,
 "nbformat_minor": 4
}
