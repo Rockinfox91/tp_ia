{
 "cells": [
  {
   "cell_type": "markdown",
   "metadata": {
    "toc": true
   },
   "source": [
    "<h1>Table of Contents<span class=\"tocSkip\"></span></h1>\n",
    "<div class=\"toc\"><ul class=\"toc-item\"><li><span><a href=\"#Structure-du-réseau\" data-toc-modified-id=\"Structure-du-réseau-1\"><span class=\"toc-item-num\">1&nbsp;&nbsp;</span>Structure du réseau</a></span></li><li><span><a href=\"#Configuration-du-processus-d'apprentissage\" data-toc-modified-id=\"Configuration-du-processus-d'apprentissage-2\"><span class=\"toc-item-num\">2&nbsp;&nbsp;</span>Configuration du processus d'apprentissage</a></span><ul class=\"toc-item\"><li><span><a href=\"#Principales-fonctions-de-coût\" data-toc-modified-id=\"Principales-fonctions-de-coût-2.1\"><span class=\"toc-item-num\">2.1&nbsp;&nbsp;</span>Principales fonctions de coût</a></span><ul class=\"toc-item\"><li><span><a href=\"#Pour-les-problèmes-de-classification\" data-toc-modified-id=\"Pour-les-problèmes-de-classification-2.1.1\"><span class=\"toc-item-num\">2.1.1&nbsp;&nbsp;</span>Pour les problèmes de classification</a></span></li><li><span><a href=\"#Pour-les-problèmes-de-régression\" data-toc-modified-id=\"Pour-les-problèmes-de-régression-2.1.2\"><span class=\"toc-item-num\">2.1.2&nbsp;&nbsp;</span>Pour les problèmes de régression</a></span></li></ul></li><li><span><a href=\"#Algorithmes-d'optimisation\" data-toc-modified-id=\"Algorithmes-d'optimisation-2.2\"><span class=\"toc-item-num\">2.2&nbsp;&nbsp;</span>Algorithmes d'optimisation</a></span></li><li><span><a href=\"#Métrique-d'évaluation\" data-toc-modified-id=\"Métrique-d'évaluation-2.3\"><span class=\"toc-item-num\">2.3&nbsp;&nbsp;</span>Métrique d'évaluation</a></span><ul class=\"toc-item\"><li><span><a href=\"#Problèmes-de-régression\" data-toc-modified-id=\"Problèmes-de-régression-2.3.1\"><span class=\"toc-item-num\">2.3.1&nbsp;&nbsp;</span>Problèmes de régression</a></span></li><li><span><a href=\"#Problèmes-de-classification\" data-toc-modified-id=\"Problèmes-de-classification-2.3.2\"><span class=\"toc-item-num\">2.3.2&nbsp;&nbsp;</span>Problèmes de classification</a></span></li></ul></li></ul></li><li><span><a href=\"#Entraînement-et-évaluation-du-réseau\" data-toc-modified-id=\"Entraînement-et-évaluation-du-réseau-3\"><span class=\"toc-item-num\">3&nbsp;&nbsp;</span>Entraînement et évaluation du réseau</a></span></li></ul></div>"
   ]
  },
  {
   "cell_type": "markdown",
   "metadata": {},
   "source": [
    "# Mise en oeuvre d'un réseau neuronal avec Keras\n",
    "\n",
    "<br>\n",
    "\n",
    "Keras est une interface de programmation (API: Application Programming Interface) simplifiant l'utilisation de la plateforme de machine learning *Tensor Flow*. C'est l'outil que nous allons utiliser pour construire et entraîner des réseaux neuronaux. La documentation de Keras est disponible à l'adresse suivante: https://keras.io/api/.\n",
    "\n",
    "<br>\n",
    "\n",
    "Vous trouverez ci-dessous les éléments de base qui vous permettront d'utiliser keras pour construire et entraîner un réseau de neurones simple. Ces éléments sont directement tirés de la documentation de Keras.\n",
    "\n",
    "<br>\n",
    "\n"
   ]
  },
  {
   "cell_type": "markdown",
   "metadata": {},
   "source": [
    "## Structure du réseau\n",
    "\n",
    "<br>\n",
    "\n",
    "Le modèle le plus simple que l'on peut construire est le modèle <code>Sequential</code> constitué d'un empilement de couches connectées successivement les unes aux autres. Pour créer un modèle (initialement vide), on doit créer une instance de la classe <code>Sequential</code> \n",
    "\n",
    "<br>"
   ]
  },
  {
   "cell_type": "code",
   "execution_count": null,
   "metadata": {
    "ExecuteTime": {
     "end_time": "2023-10-13T12:00:10.384296100Z",
     "start_time": "2023-10-13T12:00:10.341832200Z"
    }
   },
   "outputs": [],
   "source": [
    "from tensorflow.keras.models import Sequential\n",
    "\n",
    "model = Sequential()"
   ]
  },
  {
   "cell_type": "markdown",
   "metadata": {},
   "source": [
    "<br>\n",
    "\n",
    "Pour ajouter une couche de neurones au modèle, il faut appeler la méthode <code>add()</code> en indiquant en argument le type de couche que l'on veut mettre dans le réseau.\n",
    "\n",
    "Pour une couche \"standard\" totalement connectée on utilise la classe <code>Dense(units=nb_units, activation=activation_function)</code> où *nb_units* correspond au nombre de neurones dans la couche et *activation_function* correspond à la fonction d'activation des neurones de cette couche ('relu', 'sigmoid', 'tanh', 'softmax', ...).\n",
    "\n",
    "Supposons que l'on souhaite construire un réseau constitué de 2 couches ayant la structure suivante:\n",
    "- couche 1: 64 unités, activation de type 'relu'\n",
    "- couche 2: 4 unités, activation de type 'softmax'\n",
    "\n",
    "et que les données qui vont être fournies en entrée du réseau soient de dimension $d=4$. Pour créer la structure de ce réseau on va alors appeler les commandes suivantes:\n",
    "\n",
    "<br>\n"
   ]
  },
  {
   "cell_type": "code",
   "execution_count": null,
   "metadata": {
    "ExecuteTime": {
     "end_time": "2023-10-13T12:00:12.235070500Z",
     "start_time": "2023-10-13T12:00:12.175611800Z"
    }
   },
   "outputs": [],
   "source": [
    "from tensorflow.keras.layers import Dense\n",
    "\n",
    "model.add(Dense(units=64, activation='relu', input_shape=(4,)))\n",
    "model.add(Dense(units=3, activation='softmax'))\n",
    "\n",
    "model.summary()"
   ]
  },
  {
   "cell_type": "markdown",
   "metadata": {},
   "source": [
    "<br>\n",
    "\n",
    "<img src=\"./schema-NN.png\" width=400 height=300 />\n",
    "\n",
    "<br>\n",
    "\n",
    "L'indication du paramètre <code>input_shape=(4,)</code> n'est pas indispensable mais elle permet d'utiliser la fonction <code>summary()</code> qui affiche la structure du réseau ainsi que le nombre de paramètres dans chaque couche.\n",
    "\n",
    "<br>\n",
    "\n",
    "Les objets de type *layer* constituent la base d'un réseau neuronal. Il en existe de nombreux types. Pour plus d'informations, voir https://keras.io/api/layers/ .\n",
    "\n",
    "<br>"
   ]
  },
  {
   "cell_type": "markdown",
   "metadata": {},
   "source": [
    "<br>\n",
    "\n",
    "## Configuration du processus d'apprentissage\n",
    "\n",
    "<br>\n",
    "\n",
    "Une fois que la structure du réseau est définie, on peut configurer le processus d'apprentissage à l'aide de la méthode <code>compile()</code>. Lors de cette étape, il faut en particulier définir:\n",
    "- la fonction de coût à minimiser\n",
    "- l'algorithme d'optimisation\n",
    "- la métrique utilisée pour évaluer la performance du modèle\n",
    "\n",
    "<br>\n",
    "\n",
    "### Principales fonctions de coût\n",
    "\n",
    "<br>\n",
    "\n",
    "Voir https://keras.io/api/losses/.\n",
    "\n",
    "<br>\n",
    "\n",
    "#### Pour les problèmes de classification\n",
    "\n",
    "<br>\n",
    "\n",
    "- **binary_crossentropy**: entropie croisée pour les problème de classification binaire (y = 0 ou 1)\n",
    "- **categorical_crossentropy**: entropie croisée pour les problèmes multi-classes; les étiquettes doivent être fournies dans une représentation de type *one-hot* (voir ci-dessous)\n",
    "- **sparse_categorical_crossentropy**: entropie croisée pour les problèmes multi-classes; les étiquettes doivent être fournies sous la forme d'un entier (compris entre 1 et K s'il y a K classes)\n",
    "\n",
    "#### Représentation *one-hot*\n",
    "\n",
    "Pour représenter 1 classe on peut créer une variable dont la valeur sera un nombre entier compris entre 1 et K où K est le nombre de classes. L'inconvénient de cettre forme de représentation est qu'elle introduit une notion d'ordre entre les différentes classes. Pour éviter cela on peut utiliser une autre forme de représentation appelée *one-hot*. Pour cela, on va créer une variable vectorielle possédant K composantes pouvant prendre la valeur 0 ou 1. Pour une donnée appartenant à la classe $m$, toutes les composantes seront nulles sauf la composante $m$ qui aura la valeur 1. Par exemple, dans le cas d'un problème où le nombre de classes est 5, pour une donnée de la classe 4 la variable représentant la classe prendra la valeur (0,0,0,1,0).\n",
    "\n",
    "\n",
    "#### Pour les problèmes de régression\n",
    "\n",
    "<br>\n",
    "\n",
    "- **mean_squared_error**\n",
    "- **mean_absolute_error**\n",
    "\n",
    "<br>\n",
    "\n",
    "### Algorithmes d'optimisation\n",
    "\n",
    "Plusieurs algorithmes d'optimisation peuvent être utilisés (https://keras.io/api/optimizers/). On trouve notamment:\n",
    "- **SGD**: descente de gradient stochastique avec momentum\n",
    "- **RMSprop**: descente de gradient stochastique à pas adaptatif\n",
    "- **Adam**: descente de gradient stochastique avec momentum et pas adaptatif\n",
    "\n",
    "<br>\n",
    "\n",
    "### Métrique d'évaluation\n",
    "\n",
    "Un grand nombre de métriques peuvent être utilisées (https://keras.io/api/metrics/).\n",
    "\n",
    "#### Problèmes de régression\n",
    "\n",
    "Pour les problèmes de régression, on utilise très souvent l'erreur quadratique moyenne (**mean_squared_error**) ou l'erreur absolue moyenne (**mean_absolute_error**).\n",
    "\n",
    "#### Problèmes de classification\n",
    "\n",
    "Pour les problèmes de classification, la métrique la plus simple est **accuracy** qui renvoie le pourcentage de prédictions correctes.\n",
    "\n",
    "<br>\n",
    "\n",
    "La configuration la plus simple peut être effectuée à l'aide d'une commande du type:\n",
    "\n",
    "<br>"
   ]
  },
  {
   "cell_type": "code",
   "execution_count": null,
   "metadata": {
    "ExecuteTime": {
     "end_time": "2023-10-13T12:03:56.509581200Z",
     "start_time": "2023-10-13T12:03:56.476361500Z"
    }
   },
   "outputs": [],
   "source": [
    "model.compile(loss='sparse_categorical_crossentropy',\n",
    "              optimizer='sgd',\n",
    "              metrics=['accuracy'])"
   ]
  },
  {
   "cell_type": "markdown",
   "metadata": {},
   "source": [
    "<br>\n",
    "\n",
    "La commande précédente utilise les paramètres par défaut de l'optimiseur. Il est cependant évidemment possible de configurer plus finement le processus en choisissant les paramètres de l'optimiseur:\n",
    "\n",
    "<br>"
   ]
  },
  {
   "cell_type": "code",
   "execution_count": null,
   "metadata": {
    "ExecuteTime": {
     "end_time": "2023-10-13T12:05:12.158531300Z",
     "start_time": "2023-10-13T12:05:12.145376Z"
    }
   },
   "outputs": [],
   "source": [
    "from tensorflow import keras\n",
    "\n",
    "model.compile(loss='sparse_categorical_crossentropy',\n",
    "              optimizer=keras.optimizers.SGD(learning_rate=0.01, momentum=0.9, nesterov=True),\n",
    "              metrics=['accuracy'])"
   ]
  },
  {
   "cell_type": "markdown",
   "metadata": {},
   "source": [
    "<br>\n",
    "\n",
    "## Entraînement et évaluation du réseau\n",
    "\n",
    "<br>\n",
    "\n",
    "voir: https://keras.io/api/models/model_training_apis/\n",
    "\n",
    "<br>\n",
    "Pour entraîner et évaluer le modèle ainsi créé il faut disposer d'un jeu de données d'entraînement et d'un jeu de test. Certains datasets sont directement intégrés à Keras mais il est évidemment possible d'utiliser d'autres jeux de données. Dans cet exemple nous allons utiliser les données du dataset Iris disponible dans scikit-learn.\n",
    "\n",
    "<br>"
   ]
  },
  {
   "cell_type": "code",
   "execution_count": null,
   "metadata": {
    "ExecuteTime": {
     "end_time": "2023-10-13T12:05:39.702448700Z",
     "start_time": "2023-10-13T12:05:38.953782100Z"
    }
   },
   "outputs": [],
   "source": [
    "from sklearn.datasets import load_iris\n",
    "from sklearn.model_selection import train_test_split\n",
    "from sklearn.preprocessing import StandardScaler\n",
    "\n",
    "dataset = load_iris()\n",
    "X = dataset['data']\n",
    "y = dataset['target']\n",
    "\n",
    "X_train, X_test, y_train, y_test = train_test_split(X, y, random_state=0)\n",
    "\n",
    "scaler = StandardScaler()\n",
    "X_train = scaler.fit_transform(X_train)\n",
    "X_test = scaler.transform(X_test)"
   ]
  },
  {
   "cell_type": "markdown",
   "metadata": {},
   "source": [
    "<br>\n",
    "\n",
    "Comme avec la librairie scikit-learn, l'optimisation du modèle avec les données d'entraînement s'effectue grâce à la méthode <code>fit()</code>. En plus des données d'entraînement, les principaux paramètres qui peuvent passés en argument sont\n",
    "- epochs : nombre de cycles où l'ensemble des données d'entraînement sera utilisé pour minimiser la fonction de coût\n",
    "- batch_size : taille des mini-lots utilisés pour la descente de gradient\n",
    "- validation_split : fraction des données d'entraînement utilisée pour réaliser une estimation de l'erreur de généralisation\n",
    "\n",
    "Au cours de l'entraînement, le programme affiche la valeur de la fonction de coût et de la métrique d'évaluation calculées sur les données d'entraînement (*loss* et *accuracy*) ainsi que la valeur de ces grandeurs mesurée sur les données de validation (*val_loss* et *val_accuracy*).\n",
    "\n",
    "<br>\n"
   ]
  },
  {
   "cell_type": "code",
   "execution_count": null,
   "metadata": {
    "ExecuteTime": {
     "end_time": "2023-10-13T12:05:46.092173500Z",
     "start_time": "2023-10-13T12:05:44.972631700Z"
    }
   },
   "outputs": [],
   "source": [
    "model.fit(X_train, y_train, epochs=20, batch_size=10, validation_split=0.2)"
   ]
  },
  {
   "cell_type": "markdown",
   "metadata": {},
   "source": [
    "<br>\n",
    "\n",
    "La méthode <code>evaluate()</code> renvoie la valeur de la fonction de coût et de la métrique d'évaluation calculées sur les données fournies en argument.\n",
    "\n",
    "<br>\n"
   ]
  },
  {
   "cell_type": "code",
   "execution_count": null,
   "metadata": {
    "ExecuteTime": {
     "end_time": "2023-10-13T12:06:19.102634800Z",
     "start_time": "2023-10-13T12:06:19.046376600Z"
    }
   },
   "outputs": [],
   "source": [
    "loss_and_metrics = model.evaluate(X_test, y_test, batch_size=len(y_test))\n",
    "\n",
    "print(\"\\nloss:\", loss_and_metrics[0])\n",
    "print(\"accuracy:\", loss_and_metrics[1])"
   ]
  },
  {
   "cell_type": "markdown",
   "metadata": {},
   "source": [
    "<br>\n",
    "\n",
    "La méthode <code>predict()</code> permet de prédire l'étiquette associée à de nouvelles données. Dans le cas d'un problème de classification cette prédiction correspond généralement à la probabilité d'appartenir à chacune des classes.\n",
    "\n",
    "<br>\n"
   ]
  },
  {
   "cell_type": "code",
   "execution_count": null,
   "metadata": {
    "ExecuteTime": {
     "end_time": "2023-10-13T12:06:56.868630900Z",
     "start_time": "2023-10-13T12:06:56.735682100Z"
    }
   },
   "outputs": [],
   "source": [
    "import numpy as np\n",
    "\n",
    "predictions = model.predict(X_test, batch_size=len(y_test))\n",
    "\n",
    "for i in range(len(y_test)):\n",
    "    if y_test[i]==np.argmax(predictions[i]):\n",
    "        print(y_test[i], '   ', predictions[i])\n",
    "    else:\n",
    "        print(y_test[i], '   ', predictions[i], '     ERROR')"
   ]
  },
  {
   "cell_type": "markdown",
   "metadata": {},
   "source": [
    "<br>\n",
    "\n",
    "## Utilisation des *callbacks*\n",
    "\n",
    "<br>\n",
    "\n",
    "Au cours de la phase d'entraînement du réseau il est possible d'activer certaines fonctions, en particulier pour effectuer une sauvegarde régulière du modèle ou pour implémenter une stratégie d'arrêt anticipé (*early stopping*). Sous Keras ces fonctions sont appelées **callbacks** (https://keras.io/api/callbacks/).\n",
    "\n",
    "<br>\n",
    "\n",
    "La cellule ci-dessous crée 2 objets de type *callback*. Le premier (*cb_sauvegarde*) va permettre de sauvegarder le modèle dans le fichier *fichier_de_sauvegarde.h5* à la fin de chaque époque d'entraînement. Lorsque l'entraînement du réseau prend beaucoup de temps, ceci permet de se prémunir contre des problèmes tels qu'une coupure d'électricité ou un plantage de l'ordinateur. L'option *save_best_only* indique à l'algorithme d'effectuer la sauvegarde uniquement lorsque la métrique d'évaluation est meilleure que lors de la sauvegarde précédente. Cette option permet d'entraîner l'algorithme avec un nombre d'époques très grand sans craindre les problèmes de sur-apprentissage puisque le modèle cesse d'être sauvegardé lorsque la métrique d'évaluation commence à se détériorer.\n",
    "\n",
    "Le second callback (*cb_early_stopping*) permet d'interrompre l'entraînement si la métrique d'évaluation cesse de s'améliorer pendant 3 époques consécutives.\n",
    "\n",
    "<br>"
   ]
  },
  {
   "cell_type": "code",
   "execution_count": null,
   "metadata": {
    "ExecuteTime": {
     "end_time": "2023-10-13T12:09:25.730437200Z",
     "start_time": "2023-10-13T12:09:25.723846200Z"
    }
   },
   "outputs": [],
   "source": [
    "from tensorflow.keras.callbacks import ModelCheckpoint, EarlyStopping\n",
    "\n",
    "cb_sauvegarde = ModelCheckpoint(filepath='fichier_de_sauvegarde.h5', save_best_only=True)\n",
    "cb_earlystopping = EarlyStopping(monitor=\"val_accuracy\", patience=3)"
   ]
  },
  {
   "cell_type": "code",
   "execution_count": null,
   "metadata": {
    "ExecuteTime": {
     "end_time": "2023-10-13T12:09:29.055326900Z",
     "start_time": "2023-10-13T12:09:28.282224Z"
    }
   },
   "outputs": [],
   "source": [
    "new_model = Sequential()\n",
    "new_model.add(Dense(units=64, activation='relu', input_shape=(4,)))\n",
    "new_model.add(Dense(units=3, activation='softmax'))\n",
    "\n",
    "new_model.compile(loss='sparse_categorical_crossentropy',\n",
    "                  optimizer=keras.optimizers.SGD(learning_rate=0.01, momentum=0.9, nesterov=True),\n",
    "                  metrics=['accuracy'])\n",
    "\n",
    "new_model.fit(X_train, y_train,\n",
    "              epochs=20, \n",
    "              batch_size=10, \n",
    "              validation_split=0.2, \n",
    "              callbacks=[cb_sauvegarde, cb_earlystopping])"
   ]
  },
  {
   "cell_type": "markdown",
   "metadata": {},
   "source": [
    "<br>\n",
    "\n",
    "On peut également sauvegarder un modèle sans utiliser les callbacks. Une fois l'entraînement terminé, il suffit pour cela d'appeler la fonction <code>.save()</code>. Une fois qu'un modèle a été sauvegardé, il est naturellement possible de le charger à l'aide de la fonction <code>.load_model()</code> afin de l'utiliser ou de continuer l'entraînement.\n",
    "\n",
    "<br>\n",
    "\n",
    "#### En conclusion\n",
    "\n",
    "<br>\n",
    "\n",
    "Nous avons présenté dans ce notebook les éléments de base de l'API Keras afin que vous puissiez commencer à l'utiliser. Cette plateforme offre de nombreuses autres fonctionnalités et permet de construire des modèles extrêmement complexes. Les liens vers la documentation de Keras doivent vous permettre de mieux comprendre le fonctionnement de cette API et d'en exploiter les possibilités.\n",
    "\n",
    "<br>"
   ]
  }
 ],
 "metadata": {
  "hide_input": false,
  "kernelspec": {
   "display_name": "Python 3 (ipykernel)",
   "language": "python",
   "name": "python3"
  },
  "language_info": {
   "codemirror_mode": {
    "name": "ipython",
    "version": 3
   },
   "file_extension": ".py",
   "mimetype": "text/x-python",
   "name": "python",
   "nbconvert_exporter": "python",
   "pygments_lexer": "ipython3",
   "version": "3.11.4"
  },
  "latex_envs": {
   "LaTeX_envs_menu_present": true,
   "autoclose": false,
   "autocomplete": true,
   "bibliofile": "biblio.bib",
   "cite_by": "apalike",
   "current_citInitial": 1,
   "eqLabelWithNumbers": true,
   "eqNumInitial": 1,
   "hotkeys": {
    "equation": "Ctrl-E",
    "itemize": "Ctrl-I"
   },
   "labels_anchors": false,
   "latex_user_defs": false,
   "report_style_numbering": false,
   "user_envs_cfg": false
  },
  "toc": {
   "base_numbering": 1,
   "nav_menu": {},
   "number_sections": true,
   "sideBar": false,
   "skip_h1_title": true,
   "title_cell": "Table of Contents",
   "title_sidebar": "Contents",
   "toc_cell": true,
   "toc_position": {},
   "toc_section_display": false,
   "toc_window_display": true
  }
 },
 "nbformat": 4,
 "nbformat_minor": 4
}
