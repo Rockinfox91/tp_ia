{
 "cells": [
  {
   "cell_type": "markdown",
   "metadata": {
    "toc": true
   },
   "source": [
    "<h1>Table of Contents<span class=\"tocSkip\"></span></h1>\n",
    "<div class=\"toc\"><ul class=\"toc-item\"><li><span><a href=\"#Importation-et-préparation-des-données\" data-toc-modified-id=\"Importation-et-préparation-des-données-1\"><span class=\"toc-item-num\">1&nbsp;&nbsp;</span>Importation et préparation des données</a></span></li><li><span><a href=\"#Perceptron-multi-couches\" data-toc-modified-id=\"Perceptron-multi-couches-2\"><span class=\"toc-item-num\">2&nbsp;&nbsp;</span>Perceptron multi-couches</a></span></li><li><span><a href=\"#Réseau-convolutif\" data-toc-modified-id=\"Réseau-convolutif-3\"><span class=\"toc-item-num\">3&nbsp;&nbsp;</span>Réseau convolutif</a></span></li></ul></div>"
   ]
  },
  {
   "cell_type": "markdown",
   "metadata": {},
   "source": [
    "# TP n°4 : réseaux neuronaux\n",
    "\n",
    "<br>\n",
    "\n",
    "L'objectif de cette séance est d'utiliser l'interface de programmation Keras afin de construire un modèle prédictif pour les données MNIST. Dans un premier temps vous allez construire et entraîner un réseau neuronal multicouche totalement connecté puis, dans un second temps, vous mettrez en oeuvre un réseau convolutif.\n",
    "\n",
    "<br>\n",
    "\n",
    "**Exercice**\n",
    "\n",
    "- Que représentent les données ?\n",
    "Image 28*28 = 784 pixels en niveau de gris qui représentent une classification à 10 classes (0 à 9).\n",
    "- S'agit-il d'un problème de classification ou de régression ?\n",
    "- S'il s'agit d'un problème de classification, combien de classes y a t-il ?\n",
    "\n",
    "<br>"
   ]
  },
  {
   "cell_type": "code",
   "execution_count": null,
   "metadata": {
    "ExecuteTime": {
     "end_time": "2023-10-13T12:15:24.897669400Z",
     "start_time": "2023-10-13T12:15:21.354098600Z"
    }
   },
   "outputs": [],
   "source": [
    "import numpy as np\n",
    "import matplotlib.pyplot as plt\n",
    "%matplotlib inline\n",
    "\n",
    "from tensorflow import keras"
   ]
  },
  {
   "cell_type": "markdown",
   "metadata": {},
   "source": [
    "<br>\n",
    "\n",
    "## Importation et préparation des données\n",
    "\n",
    "<br>\n",
    "\n",
    "Les données MNIST peuvent être importée directement depuis Keras à l'aide de la méthode <code>load_data()</code> du module <code>keras.datasets.mnist</code>.\n",
    "\n",
    "<br>"
   ]
  },
  {
   "cell_type": "code",
   "execution_count": null,
   "metadata": {
    "ExecuteTime": {
     "end_time": "2023-10-13T12:22:07.369275Z",
     "start_time": "2023-10-13T12:15:50.266500500Z"
    }
   },
   "outputs": [],
   "source": [
    "from keras.datasets import mnist\n",
    "(X_train, y_train), (X_test, y_test) = mnist.load_data()"
   ]
  },
  {
   "cell_type": "code",
   "execution_count": null,
   "outputs": [],
   "source": [
    "print(X_train.shape)\n",
    "print(X_test.shape)\n",
    "\n",
    "print(X_train.min())\n",
    "print(X_train.max())\n",
    "\n",
    "print(X_train)\n",
    "print(y_train)"
   ],
   "metadata": {
    "collapsed": false,
    "ExecuteTime": {
     "end_time": "2023-10-13T12:29:43.032626500Z",
     "start_time": "2023-10-13T12:29:43.003840300Z"
    }
   }
  },
  {
   "cell_type": "markdown",
   "metadata": {},
   "source": [
    "<br>\n",
    "\n",
    "**Exercice**\n",
    "\n",
    "- Combien y a t-il de données dans le jeu d'entraînement et dans le jeu de test ?\n",
    "60000 entrainement et 10000 de test.\n",
    "- Sous quelle forme se présentent les données ?\n",
    "Matrices 28 par 28\n",
    "- Quelles sont les valeurs min et max de X_train ?\n",
    "0 et 255 (couleur pixel gris)\n",
    "- Comment sont codés les labels des données ?\n",
    "Suite d'entier qui représentent les résultats attendu (les classes).\n",
    "<br>\n"
   ]
  },
  {
   "cell_type": "code",
   "execution_count": null,
   "metadata": {},
   "outputs": [],
   "source": []
  },
  {
   "cell_type": "markdown",
   "metadata": {},
   "source": [
    "Quelles informations peut-on tirer du résultat renvoyé par la cellule ci-dessous ?\n",
    "Les données ne sont pas triés (indice moyen = N/2 et tout autour de cette moyenne)."
   ]
  },
  {
   "cell_type": "code",
   "execution_count": null,
   "metadata": {
    "ExecuteTime": {
     "end_time": "2023-10-13T12:25:37.085199200Z",
     "start_time": "2023-10-13T12:25:37.066688700Z"
    }
   },
   "outputs": [],
   "source": [
    "print(\"label   nombre de données   indice moyen   écart type des indices\")\n",
    "\n",
    "for i in range(10):\n",
    "    index = np.where(y_train==i)[0]\n",
    "    print(\"{:5d}   {:10d}   {:15.1f}   {:15.1f}\".format(i, len(index), np.mean(index), np.std(index)))"
   ]
  },
  {
   "cell_type": "markdown",
   "metadata": {},
   "source": [
    "<br>\n",
    "\n",
    "### Préparation des matrices d'entrée\n",
    "\n",
    "<br>\n",
    "\n",
    "Vous allez commencer par implémenter un perceptron multi-couche. Ce type de réseau prend comme donnée d'entrée une matrice de forme $N \\times d$ où $N$ est le nombre de données et $d$ est la dimension de chaque donnée qui est ici égale au nombre de pixels des images. \n",
    "\n",
    "Par ailleurs, les stratégies habituelles d'initialisation des poids dans les réseaux neuronaux nécessitent pour être efficaces que chaque descripteur des données d'entrées se comporte approximativement comme une variable aléatoire de moyenne nulle et de variance unitaire. Pour effectuer une telle transformation, on peut utiliser la fonction <code>StandardScaler()</code> de scikit-learn. Dans certains cas (lorsque les données d'entrée sont des images par exemple) il peut être plus naturel de se restreindre à un intervalle de valeurs positives. Dans ce cas, on transformera les données de façon à ce que chaque descripteur ait une valeur comprise entre 0 et 1.\n",
    "\n",
    "\n",
    "**Exercice**\n",
    "\n",
    "- Mettre X_train et X_test sous la forme de matrices $N \\times d$ où $d = 28\\times 28$ = 784.\n",
    "- Faire un changement d'échelle de façon à ce que toutes les données soient comprises dans l'intervalle $[0,1]$.\n",
    "- A l'aide de la fonction <code>astype()</code>, convertir les données au format float32 (nombre à virgule flottante codé sur 32 bits) qui est le format utilisé par défaut par tensorflow.\n",
    "\n",
    "<br>\n"
   ]
  },
  {
   "cell_type": "code",
   "execution_count": null,
   "metadata": {
    "ExecuteTime": {
     "end_time": "2023-10-13T13:31:25.842953700Z",
     "start_time": "2023-10-13T13:31:25.527172900Z"
    }
   },
   "outputs": [],
   "source": [
    "N_train = 60000\n",
    "N_test = 10000\n",
    "\n",
    "print(X_train.shape)\n",
    "X_train_shaped = np.reshape(X_train,(60000, 784))\n",
    "X_train_scaled = X_train_shaped.astype(\"float32\", copy = True)\n",
    "X_train_final = X_train_scaled/255\n",
    "print(X_train_final[0])\n",
    "\n",
    "X_test_shaped = np.reshape(X_test,(10000, 784))\n",
    "X_test_scaled = X_test_shaped.astype(\"float32\", copy = True)\n",
    "X_test_final = X_test_scaled/255"
   ]
  },
  {
   "cell_type": "markdown",
   "metadata": {},
   "source": [
    "### Préparation des vecteurs d'étiquettes\n",
    "\n",
    "<br>\n",
    "\n",
    "Lorsqu'on charge le dataset, les étiquettes sont codées sous la forme d'un nombre entier compris entre 0 et 9. Cette façon de représenter les différentes classes présente un inconvénient: puisque les labels (1, 2, ..., 9) ont une relation d'ordre (1 < 2 < ... < 9) cette représentation tend implicitement à considérer que les classes elles-mêmes sont ordonnées (classe 1 < classe 2 < ... < classe 9). Cette forme de représentation est parfaitement adaptée à certains problèmes, par exemple si les classes sont *très froid*, *froid*, *tiède*, *chaud*, *très chaud*. En revanche, lorsque les classes ne présentent aucune relation d'ordre, il est préférable d'éviter ce type de représentation. On va alors utiliser un encodage de type *one-hot* consistant à créer une étiquette de dimension $K$ s'il y a $K$ classes. Pour une donnée appartenant à la classe $m$, toutes les composantes seront nulles sauf la composante $m$ qui aura la valeur 1.\n",
    "\n",
    "**Exercice**\n",
    "\n",
    "- En utilisant la fonction <code>keras.utils.to_categorical()</code>, créez deux variables de sortie *y_train_onehot* et *y_test_onehot* encodant les étiquettes des données d'entraînement et de test de cette façon.\n",
    "- Affichez à l'écran les 10 premières composantes de *y_train* et de *y_train_one_hot*.\n",
    "\n",
    "<br>"
   ]
  },
  {
   "cell_type": "code",
   "execution_count": null,
   "metadata": {
    "ExecuteTime": {
     "end_time": "2023-10-13T13:02:02.012294Z",
     "start_time": "2023-10-13T13:02:02.000195900Z"
    }
   },
   "outputs": [],
   "source": [
    "y_train_onehot = keras.utils.to_categorical(y_train, num_classes=10)\n",
    "y_test_onehot = keras.utils.to_categorical(y_test, num_classes=10)\n",
    "\n",
    "print(y_train_onehot[0])"
   ]
  },
  {
   "cell_type": "markdown",
   "metadata": {},
   "source": [
    "<br>\n",
    "\n",
    "## Perceptron multi-couches\n",
    "\n",
    "<br>\n",
    "\n",
    "**Exercice**\n",
    "\n",
    "- Pour ce problème, combien d'unités la couche de sortie doit-elle comporter ? Quelle fonction d'activation cette couche doit-elle utiliser ?\n",
    "Couche de sortie doit comporter 10 couches. Elle doit utiliser la fonction d'activation softmax.\n",
    "- Construire un réseau neuronal comportant 2 couches cachées de 100 unités avec une activation de type *relu* et 1 couche de sortie.\n",
    "- Combien de paramètres votre modèle va t-il devoir ajuster ?\n",
    "- Compiler le modèle en choisissant la fonction de coût 'categorical_crossentropy', l'algorithme de descente SGD et la métrique d'évaluation 'accuracy'.\n",
    "- Entraîner le modèle avec des valeurs de paramètres *batch_size*, *epochs* et *validation_split* égales respectivement à 32, 10 et 0,2. Quels sont les rôles de ces paramètres ?\n",
    "\n",
    "<br>"
   ]
  },
  {
   "cell_type": "code",
   "execution_count": null,
   "metadata": {
    "ExecuteTime": {
     "end_time": "2023-10-13T14:51:24.636538600Z",
     "start_time": "2023-10-13T14:51:24.548136800Z"
    }
   },
   "outputs": [],
   "source": [
    "# Création du modèle\n",
    "from tensorflow.keras.callbacks import ModelCheckpoint, EarlyStopping\n",
    "from tensorflow.keras.models import Sequential\n",
    "from tensorflow.keras.layers import Dense, Dropout\n",
    "\n",
    "cb_sauvegarde = ModelCheckpoint(filepath='mnist_1.h5', save_best_only=True)\n",
    "cb_earlystopping = EarlyStopping(monitor=\"val_accuracy\", patience=5)\n",
    "\n",
    "model = Sequential()\n",
    "\n",
    "model.add(Dense(units=100, activation='relu', input_shape=(784,)))\n",
    "model.add(Dense(units=100, activation='relu', input_shape=(100,)))\n",
    "model.add(Dense(units=10, activation='softmax'))\n",
    "\n",
    "model.summary()"
   ]
  },
  {
   "cell_type": "code",
   "execution_count": null,
   "metadata": {
    "ExecuteTime": {
     "end_time": "2023-10-13T13:05:45.415755500Z",
     "start_time": "2023-10-13T13:05:45.406264900Z"
    }
   },
   "outputs": [],
   "source": [
    "# Compilation du modèle\n",
    "model.compile(loss='categorical_crossentropy',\n",
    "              optimizer=keras.optimizers.SGD(learning_rate=0.01, momentum=0.9),\n",
    "              metrics=['accuracy'])"
   ]
  },
  {
   "cell_type": "code",
   "execution_count": null,
   "metadata": {
    "ExecuteTime": {
     "end_time": "2023-10-13T13:06:06.992937500Z",
     "start_time": "2023-10-13T13:05:46.767913200Z"
    }
   },
   "outputs": [],
   "source": [
    "# Entraînement du modèle\n",
    "history = model.fit(X_train_final, y_train_onehot, epochs=10, batch_size=32, validation_split=0.2, callbacks=[cb_sauvegarde, cb_earlystopping])\n",
    "history"
   ]
  },
  {
   "cell_type": "markdown",
   "metadata": {},
   "source": [
    "<br>\n",
    "\n",
    "La méthode <code>fit()</code> renvoie comme résultat un objet de la classe <code>History</code> dont l'attribut History.history est un dictionnaire contenant les valeurs de la fonction de coût et de la métrique d'évaluation pour chaque époque:\n",
    "- History.history['loss'] : valeurs de la fonction de coût pour les données d'entraînement\n",
    "- History.history['accuracy'] : valeurs de la métrique d'évaluation pour les données d'entraînement\n",
    "- History.history['val_loss'] : valeurs de la fonction de coût pour les données de validatin\n",
    "- History.history['val_accuracy'] : valeurs de la métrique d'évaluation pour les données de validation\n",
    "\n",
    "<br>\n",
    "\n",
    "**Exercice**\n",
    "\n",
    "Représenter sur un graphe l'évolution de la fonction de coût et de la métrique d'évaluation, pour les données d'entraînement et de validation au cours de l'entraînement du réseau.\n",
    "\n",
    "<br>"
   ]
  },
  {
   "cell_type": "code",
   "execution_count": null,
   "metadata": {
    "ExecuteTime": {
     "end_time": "2023-10-13T13:21:53.590009700Z",
     "start_time": "2023-10-13T13:21:53.451011Z"
    }
   },
   "outputs": [],
   "source": [
    "import matplotlib.pyplot as plt\n",
    "\n",
    "plt.plot(history.history['loss'], label='train loss')\n",
    "plt.plot(history.history['accuracy'], label='train accuracy')\n",
    "plt.plot(history.history['val_loss'], label='validation loss')\n",
    "plt.plot(history.history['val_accuracy'], label='validation accuracy')\n",
    "plt.legend()\n",
    "plt.show()"
   ]
  },
  {
   "cell_type": "markdown",
   "metadata": {},
   "source": [
    "<br>\n",
    "\n",
    "**Exercice**\n",
    "\n",
    "- Optimiser les hyper-paramètres du modèle (taux d'apprentissag, nombre d'époques d'entraînement, choix de l'optimiseur, architecture du réseau, etc).\n",
    "- Déterminer la performance prédictive que l'on peut attendre du modèle pour de nouvelles données.\n",
    "\n",
    "<br>"
   ]
  },
  {
   "cell_type": "code",
   "execution_count": null,
   "metadata": {
    "ExecuteTime": {
     "end_time": "2023-10-13T13:36:08.368100700Z",
     "start_time": "2023-10-13T13:36:08.355275700Z"
    }
   },
   "outputs": [],
   "source": []
  },
  {
   "cell_type": "markdown",
   "metadata": {},
   "source": [
    "<br>\n",
    "\n",
    "## Réseau convolutif\n",
    "\n",
    "<br>\n",
    "\n",
    "Pour obtenir de bons résultats avec des réseaux neuronaux, il est généralement nécessaire de les structurer. Les réseaux totalement connectés possèdent un très grand nombre de paramètres indépendants et nécessitent d'énormes quantités de données d'entraînement pour pouvoir produire des modèles performants. Les réseaux convolutifs permettent d'obtenir d'excellents résultats pour une grande variété de problèmes, en particulier dans le domaine de l'analyse d'images.\n",
    "\n",
    "<br>\n",
    "\n",
    "Pour construire un réseau neuronal convolutif capable de traiter des images, on va utiliser des structures <code>keras.layers.Conv2D()</code> et <code>keras.layers.MaxPooling2D()</code>. Ces couches permettent de traiter des données 2D multi-canaux. Dans le cas des données MNIST, il n'y a qu'un seul canal car les images ont été enregistrées en échelle de gris. Dans le cas d'images en couleur, il y aurait 3 canaux (rouge, vert, bleu). Les données que l'on fournit en entrée au réseau doivent être représentées sous la forme d'un tableau à 4 dimensions:\n",
    "- dimension 1: numéro de la donnée\n",
    "- dimention 2: indice de la ligne\n",
    "- dimension 3: indice de la colonne\n",
    "- dimension 4: numéro de canal\n",
    "\n",
    "Keras permet en fait de mettre le numéro de canal comme première ou dernière dimension. Pour voir comment est configuré Keras on peut utiliser la commande suivante\n",
    "\n",
    "<br>\n"
   ]
  },
  {
   "cell_type": "code",
   "execution_count": null,
   "metadata": {
    "ExecuteTime": {
     "end_time": "2023-10-13T13:48:46.129436700Z",
     "start_time": "2023-10-13T13:48:46.115927900Z"
    }
   },
   "outputs": [],
   "source": [
    "keras.backend.image_data_format()"
   ]
  },
  {
   "cell_type": "markdown",
   "metadata": {},
   "source": [
    "<br>\n",
    "\n",
    "**Exercice**\n",
    "\n",
    "Mettre les données $X$ d'entraînement et de test sous la forme de tableaux de dimension (data_num, row_num, col_num, 1).\n",
    "\n",
    "<br>"
   ]
  },
  {
   "cell_type": "code",
   "execution_count": null,
   "metadata": {
    "ExecuteTime": {
     "end_time": "2023-10-13T13:51:30.712627600Z",
     "start_time": "2023-10-13T13:51:30.696598500Z"
    }
   },
   "outputs": [],
   "source": [
    "X_train_final2 = np.reshape(X_train_final, (60000, 28, 28, 1))\n",
    "X_train_final2.shape"
   ]
  },
  {
   "cell_type": "markdown",
   "metadata": {},
   "source": [
    "<br>\n",
    "\n",
    "**Exercice**\n",
    "\n",
    "Construire un réseau convolutif ayant la structure suivante:\n",
    "- 1 couche de convolution avec 10 filtres de taille $5 \\times 5$ et une activation 'relu'\n",
    "- 1 couche de pooling renvoyant la valeur maximale des entrées sur un zone 2$\\times$2 \n",
    "- 1 couche de convolution avec 20 filtres de taille $5 \\times 5$ et une activation 'relu'\n",
    "- 1 couche de pooling renvoyant la valeur maximale des entrées sur un zone 2$\\times$2 \n",
    "- 1 couche de type <code>keras.layers.Flatten()</code>; que fait cette couche ?\n",
    "- 1 couche <code>keras.layers.Dense()</code> avec une activation 'relu' et un nombre d'unités égal au nombre de sorties de la couche précédente\n",
    "- 1 couche de sortie\n",
    "\n",
    "<br>\n"
   ]
  },
  {
   "cell_type": "code",
   "execution_count": null,
   "metadata": {
    "ExecuteTime": {
     "end_time": "2023-10-13T14:54:36.553869Z",
     "start_time": "2023-10-13T14:54:36.253882900Z"
    }
   },
   "outputs": [],
   "source": [
    "#Création du modèle\n",
    "\n",
    "cb_sauvegarde = ModelCheckpoint(filepath='mnist_1.h5', save_best_only=True)\n",
    "cb_earlystopping = EarlyStopping(monitor=\"val_accuracy\", patience=5)\n",
    "\n",
    "model = Sequential()\n",
    "\n",
    "model.add(keras.layers.Conv2D(filters=10, kernel_size=(5,5), activation='relu', input_shape=(28,28,1)))\n",
    "model.add(keras.layers.MaxPooling2D(pool_size=(2,2)))\n",
    "model.add(keras.layers.Dense(units=256, activation='relu'))\n",
    "model.add(keras.layers.Dense(units=512, activation='relu'))\n",
    "model.add(keras.layers.Conv2D(filters=10, kernel_size=(3,3), activation='relu', input_shape=(28,28,1)))\n",
    "model.add(keras.layers.MaxPooling2D(pool_size=(2,2)))\n",
    "model.add(Dropout(0.5))\n",
    "model.add(keras.layers.Dense(units=512, activation='relu'))\n",
    "model.add(keras.layers.Conv2D(filters=20, kernel_size=(5,5), activation='relu'))\n",
    "model.add(keras.layers.Flatten()) # Aplatit les données : 28*28*1 -> 784\n",
    "model.add(keras.layers.Dense(units=512, activation='relu'))\n",
    "model.add(keras.layers.Dense(units=128, activation='relu'))\n",
    "model.add(Dropout(0.5))\n",
    "model.add(keras.layers.Dense(units=10, activation='softmax'))\n",
    "\n",
    "model.summary()"
   ]
  },
  {
   "cell_type": "markdown",
   "metadata": {},
   "source": [
    "<br>\n",
    "\n",
    "**Exercice**\n",
    "\n",
    "Compiler et entraîner le modèle avec les paramètres suivants:\n",
    "- fonction de coût: categorical_crossentropy\n",
    "- algorithme d'optimisation: Adam\n",
    "- métrique d'évaluation: accuracy\n",
    "- taille des mini-lots: 64\n",
    "- nombre d'époques: 10\n",
    "- données utilisées pour la validation: 20%\n",
    "\n",
    "<br>"
   ]
  },
  {
   "cell_type": "code",
   "execution_count": null,
   "outputs": [],
   "source": [],
   "metadata": {
    "collapsed": false
   }
  },
  {
   "cell_type": "code",
   "execution_count": null,
   "metadata": {
    "ExecuteTime": {
     "end_time": "2023-10-13T14:54:40.505598100Z",
     "start_time": "2023-10-13T14:54:40.473912Z"
    }
   },
   "outputs": [],
   "source": [
    "# Compilation du modèle\n",
    "model.compile(loss='categorical_crossentropy',\n",
    "              optimizer=keras.optimizers.Adam(learning_rate=0.001),\n",
    "              metrics=['accuracy'])"
   ]
  },
  {
   "cell_type": "code",
   "execution_count": null,
   "metadata": {
    "ExecuteTime": {
     "end_time": "2023-10-13T15:02:21.837305700Z",
     "start_time": "2023-10-13T14:54:41.701536900Z"
    }
   },
   "outputs": [],
   "source": [
    "# Entraînement du modèle\n",
    "history = model.fit(X_train_final2, y_train_onehot, epochs=10, batch_size=64, validation_split=0.2, callbacks=[cb_sauvegarde, cb_earlystopping])"
   ]
  },
  {
   "cell_type": "markdown",
   "metadata": {},
   "source": [
    "<br>\n",
    "\n",
    "**Exercice**\n",
    "\n",
    "Représenter sur un graphe l'évolution de la fonciton de coût et du score du modèle au cours de l'entraînement.\n",
    "\n",
    "<br>"
   ]
  },
  {
   "cell_type": "code",
   "execution_count": null,
   "metadata": {
    "ExecuteTime": {
     "end_time": "2023-10-13T14:44:01.291719700Z",
     "start_time": "2023-10-13T14:44:01.129336500Z"
    }
   },
   "outputs": [],
   "source": [
    "plt.plot(history.history['loss'], label='train loss')\n",
    "plt.plot(history.history['val_loss'], label='validation loss')\n",
    "plt.legend()\n",
    "plt.show()"
   ]
  },
  {
   "cell_type": "markdown",
   "metadata": {},
   "source": [
    "<br>\n",
    "\n",
    "**Exercice**\n",
    "\n",
    "Optimiser le modèle (en particulier le taux d'apprentissage) puis calculer la performance prédictive que l'on peut en attendre.\n",
    "\n",
    "<br>"
   ]
  },
  {
   "cell_type": "code",
   "execution_count": null,
   "metadata": {},
   "outputs": [],
   "source": []
  },
  {
   "cell_type": "markdown",
   "metadata": {},
   "source": [
    "<br>\n",
    "\n",
    "## Compléments\n",
    "\n",
    "<br>\n",
    "\n",
    "- Etudiez comment varie la vitesse de convergence de l'algorithme en fonction de la taille des mini-lots utilisés. \n",
    "\n",
    "- A l'aide de la documentation de keras, vous pouvez ajouter dans votre réseau des couches de *dropout* ou des couches de renormalisation par lot (*batch normalization*) afin d'étudier comment ces couches supplémentaires peuvent affecter l'entraînement du réseau et ses performances.\n",
    "\n",
    "<br>\n"
   ]
  },
  {
   "cell_type": "code",
   "execution_count": null,
   "metadata": {},
   "outputs": [],
   "source": []
  }
 ],
 "metadata": {
  "hide_input": false,
  "kernelspec": {
   "display_name": "Python 3 (ipykernel)",
   "language": "python",
   "name": "python3"
  },
  "language_info": {
   "codemirror_mode": {
    "name": "ipython",
    "version": 3
   },
   "file_extension": ".py",
   "mimetype": "text/x-python",
   "name": "python",
   "nbconvert_exporter": "python",
   "pygments_lexer": "ipython3",
   "version": "3.11.4"
  },
  "latex_envs": {
   "LaTeX_envs_menu_present": true,
   "autoclose": false,
   "autocomplete": true,
   "bibliofile": "biblio.bib",
   "cite_by": "apalike",
   "current_citInitial": 1,
   "eqLabelWithNumbers": true,
   "eqNumInitial": 1,
   "hotkeys": {
    "equation": "Ctrl-E",
    "itemize": "Ctrl-I"
   },
   "labels_anchors": false,
   "latex_user_defs": false,
   "report_style_numbering": false,
   "user_envs_cfg": false
  },
  "toc": {
   "base_numbering": 1,
   "nav_menu": {},
   "number_sections": true,
   "sideBar": false,
   "skip_h1_title": true,
   "title_cell": "Table of Contents",
   "title_sidebar": "Contents",
   "toc_cell": true,
   "toc_position": {},
   "toc_section_display": false,
   "toc_window_display": true
  }
 },
 "nbformat": 4,
 "nbformat_minor": 4
}
