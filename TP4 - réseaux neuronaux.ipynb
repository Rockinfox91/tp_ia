{
 "cells": [
  {
   "cell_type": "markdown",
   "metadata": {
    "toc": true
   },
   "source": [
    "<h1>Table of Contents<span class=\"tocSkip\"></span></h1>\n",
    "<div class=\"toc\"><ul class=\"toc-item\"><li><span><a href=\"#Importation-et-préparation-des-données\" data-toc-modified-id=\"Importation-et-préparation-des-données-1\"><span class=\"toc-item-num\">1&nbsp;&nbsp;</span>Importation et préparation des données</a></span></li><li><span><a href=\"#Perceptron-multi-couches\" data-toc-modified-id=\"Perceptron-multi-couches-2\"><span class=\"toc-item-num\">2&nbsp;&nbsp;</span>Perceptron multi-couches</a></span></li><li><span><a href=\"#Réseau-convolutif\" data-toc-modified-id=\"Réseau-convolutif-3\"><span class=\"toc-item-num\">3&nbsp;&nbsp;</span>Réseau convolutif</a></span></li></ul></div>"
   ]
  },
  {
   "cell_type": "markdown",
   "metadata": {},
   "source": [
    "# TP n°4 : réseaux neuronaux\n",
    "\n",
    "<br>\n",
    "\n",
    "L'objectif de cette séance est d'utiliser l'interface de programmation Keras afin de construire un modèle prédictif pour les données MNIST. Dans un premier temps vous allez construire et entraîner un réseau neuronal multicouche totalement connecté puis, dans un second temps, vous mettrez en oeuvre un réseau convolutif.\n",
    "\n",
    "<br>\n",
    "\n",
    "**Exercice**\n",
    "\n",
    "- Que représentent les données ?\n",
    "Image 28*28 = 784 pixels en niveau de gris qui représentent une classification à 10 classes (0 à 9).\n",
    "- S'agit-il d'un problème de classification ou de régression ?\n",
    "- S'il s'agit d'un problème de classification, combien de classes y a t-il ?\n",
    "\n",
    "<br>"
   ]
  },
  {
   "cell_type": "code",
   "execution_count": 1,
   "metadata": {
    "ExecuteTime": {
     "end_time": "2023-10-13T12:15:24.897669400Z",
     "start_time": "2023-10-13T12:15:21.354098600Z"
    }
   },
   "outputs": [
    {
     "name": "stderr",
     "output_type": "stream",
     "text": [
      "C:\\Users\\lucas\\anaconda3\\lib\\site-packages\\scipy\\__init__.py:155: UserWarning: A NumPy version >=1.18.5 and <1.25.0 is required for this version of SciPy (detected version 1.26.0\n",
      "  warnings.warn(f\"A NumPy version >={np_minversion} and <{np_maxversion}\"\n"
     ]
    }
   ],
   "source": [
    "import numpy as np\n",
    "import matplotlib.pyplot as plt\n",
    "%matplotlib inline\n",
    "\n",
    "from tensorflow import keras"
   ]
  },
  {
   "cell_type": "markdown",
   "metadata": {},
   "source": [
    "<br>\n",
    "\n",
    "## Importation et préparation des données\n",
    "\n",
    "<br>\n",
    "\n",
    "Les données MNIST peuvent être importée directement depuis Keras à l'aide de la méthode <code>load_data()</code> du module <code>keras.datasets.mnist</code>.\n",
    "\n",
    "<br>"
   ]
  },
  {
   "cell_type": "code",
   "execution_count": 2,
   "metadata": {
    "ExecuteTime": {
     "end_time": "2023-10-13T12:22:07.369275Z",
     "start_time": "2023-10-13T12:15:50.266500500Z"
    }
   },
   "outputs": [
    {
     "name": "stdout",
     "output_type": "stream",
     "text": [
      "Downloading data from https://storage.googleapis.com/tensorflow/tf-keras-datasets/mnist.npz\n",
      "11490434/11490434 [==============================] - 376s 33us/step\n"
     ]
    }
   ],
   "source": [
    "from keras.datasets import mnist\n",
    "(X_train, y_train), (X_test, y_test) = mnist.load_data()"
   ]
  },
  {
   "cell_type": "code",
   "execution_count": 17,
   "outputs": [
    {
     "name": "stdout",
     "output_type": "stream",
     "text": [
      "(60000, 28, 28)\n",
      "(10000, 28, 28)\n",
      "0\n",
      "255\n",
      "[[[0 0 0 ... 0 0 0]\n",
      "  [0 0 0 ... 0 0 0]\n",
      "  [0 0 0 ... 0 0 0]\n",
      "  ...\n",
      "  [0 0 0 ... 0 0 0]\n",
      "  [0 0 0 ... 0 0 0]\n",
      "  [0 0 0 ... 0 0 0]]\n",
      "\n",
      " [[0 0 0 ... 0 0 0]\n",
      "  [0 0 0 ... 0 0 0]\n",
      "  [0 0 0 ... 0 0 0]\n",
      "  ...\n",
      "  [0 0 0 ... 0 0 0]\n",
      "  [0 0 0 ... 0 0 0]\n",
      "  [0 0 0 ... 0 0 0]]\n",
      "\n",
      " [[0 0 0 ... 0 0 0]\n",
      "  [0 0 0 ... 0 0 0]\n",
      "  [0 0 0 ... 0 0 0]\n",
      "  ...\n",
      "  [0 0 0 ... 0 0 0]\n",
      "  [0 0 0 ... 0 0 0]\n",
      "  [0 0 0 ... 0 0 0]]\n",
      "\n",
      " ...\n",
      "\n",
      " [[0 0 0 ... 0 0 0]\n",
      "  [0 0 0 ... 0 0 0]\n",
      "  [0 0 0 ... 0 0 0]\n",
      "  ...\n",
      "  [0 0 0 ... 0 0 0]\n",
      "  [0 0 0 ... 0 0 0]\n",
      "  [0 0 0 ... 0 0 0]]\n",
      "\n",
      " [[0 0 0 ... 0 0 0]\n",
      "  [0 0 0 ... 0 0 0]\n",
      "  [0 0 0 ... 0 0 0]\n",
      "  ...\n",
      "  [0 0 0 ... 0 0 0]\n",
      "  [0 0 0 ... 0 0 0]\n",
      "  [0 0 0 ... 0 0 0]]\n",
      "\n",
      " [[0 0 0 ... 0 0 0]\n",
      "  [0 0 0 ... 0 0 0]\n",
      "  [0 0 0 ... 0 0 0]\n",
      "  ...\n",
      "  [0 0 0 ... 0 0 0]\n",
      "  [0 0 0 ... 0 0 0]\n",
      "  [0 0 0 ... 0 0 0]]]\n",
      "[5 0 4 ... 5 6 8]\n"
     ]
    }
   ],
   "source": [
    "print(X_train.shape)\n",
    "print(X_test.shape)\n",
    "\n",
    "print(X_train.min())\n",
    "print(X_train.max())\n",
    "\n",
    "print(X_train)\n",
    "print(y_train)"
   ],
   "metadata": {
    "collapsed": false,
    "ExecuteTime": {
     "end_time": "2023-10-13T12:29:43.032626500Z",
     "start_time": "2023-10-13T12:29:43.003840300Z"
    }
   }
  },
  {
   "cell_type": "markdown",
   "metadata": {},
   "source": [
    "<br>\n",
    "\n",
    "**Exercice**\n",
    "\n",
    "- Combien y a t-il de données dans le jeu d'entraînement et dans le jeu de test ?\n",
    "60000 entrainement et 10000 de test.\n",
    "- Sous quelle forme se présentent les données ?\n",
    "Matrices 28 par 28\n",
    "- Quelles sont les valeurs min et max de X_train ?\n",
    "0 et 255 (couleur pixel gris)\n",
    "- Comment sont codés les labels des données ?\n",
    "Suite d'entier qui représentent les résultats attendu (les classes).\n",
    "<br>\n"
   ]
  },
  {
   "cell_type": "code",
   "execution_count": null,
   "metadata": {},
   "outputs": [],
   "source": []
  },
  {
   "cell_type": "markdown",
   "metadata": {},
   "source": [
    "Quelles informations peut-on tirer du résultat renvoyé par la cellule ci-dessous ?\n",
    "Les données ne sont pas triés (indice moyen = N/2 et tout autour de cette moyenne)."
   ]
  },
  {
   "cell_type": "code",
   "execution_count": 16,
   "metadata": {
    "ExecuteTime": {
     "end_time": "2023-10-13T12:25:37.085199200Z",
     "start_time": "2023-10-13T12:25:37.066688700Z"
    }
   },
   "outputs": [
    {
     "name": "stdout",
     "output_type": "stream",
     "text": [
      "label   nombre de données   indice moyen   écart type des indices\n",
      "    0         5923           30020.3           17364.4\n",
      "    1         6742           29670.2           17170.8\n",
      "    2         5958           30211.2           17295.3\n",
      "    3         6131           29950.4           17389.3\n",
      "    4         5842           29951.0           17424.4\n",
      "    5         5421           30193.4           17245.6\n",
      "    6         5918           29861.8           17283.2\n",
      "    7         6265           30124.9           17522.3\n",
      "    8         5851           30328.3           17281.0\n",
      "    9         5949           29743.1           17215.4\n"
     ]
    }
   ],
   "source": [
    "print(\"label   nombre de données   indice moyen   écart type des indices\")\n",
    "\n",
    "for i in range(10):\n",
    "    index = np.where(y_train==i)[0]\n",
    "    print(\"{:5d}   {:10d}   {:15.1f}   {:15.1f}\".format(i, len(index), np.mean(index), np.std(index)))"
   ]
  },
  {
   "cell_type": "markdown",
   "metadata": {},
   "source": [
    "<br>\n",
    "\n",
    "### Préparation des matrices d'entrée\n",
    "\n",
    "<br>\n",
    "\n",
    "Vous allez commencer par implémenter un perceptron multi-couche. Ce type de réseau prend comme donnée d'entrée une matrice de forme $N \\times d$ où $N$ est le nombre de données et $d$ est la dimension de chaque donnée qui est ici égale au nombre de pixels des images. \n",
    "\n",
    "Par ailleurs, les stratégies habituelles d'initialisation des poids dans les réseaux neuronaux nécessitent pour être efficaces que chaque descripteur des données d'entrées se comporte approximativement comme une variable aléatoire de moyenne nulle et de variance unitaire. Pour effectuer une telle transformation, on peut utiliser la fonction <code>StandardScaler()</code> de scikit-learn. Dans certains cas (lorsque les données d'entrée sont des images par exemple) il peut être plus naturel de se restreindre à un intervalle de valeurs positives. Dans ce cas, on transformera les données de façon à ce que chaque descripteur ait une valeur comprise entre 0 et 1.\n",
    "\n",
    "\n",
    "**Exercice**\n",
    "\n",
    "- Mettre X_train et X_test sous la forme de matrices $N \\times d$ où $d = 28\\times 28$ = 784.\n",
    "- Faire un changement d'échelle de façon à ce que toutes les données soient comprises dans l'intervalle $[0,1]$.\n",
    "- A l'aide de la fonction <code>astype()</code>, convertir les données au format float32 (nombre à virgule flottante codé sur 32 bits) qui est le format utilisé par défaut par tensorflow.\n",
    "\n",
    "<br>\n"
   ]
  },
  {
   "cell_type": "code",
   "execution_count": 55,
   "metadata": {
    "ExecuteTime": {
     "end_time": "2023-10-13T13:31:25.842953700Z",
     "start_time": "2023-10-13T13:31:25.527172900Z"
    }
   },
   "outputs": [
    {
     "name": "stdout",
     "output_type": "stream",
     "text": [
      "(60000, 28, 28)\n",
      "[0.         0.         0.         0.         0.         0.\n",
      " 0.         0.         0.         0.         0.         0.\n",
      " 0.         0.         0.         0.         0.         0.\n",
      " 0.         0.         0.         0.         0.         0.\n",
      " 0.         0.         0.         0.         0.         0.\n",
      " 0.         0.         0.         0.         0.         0.\n",
      " 0.         0.         0.         0.         0.         0.\n",
      " 0.         0.         0.         0.         0.         0.\n",
      " 0.         0.         0.         0.         0.         0.\n",
      " 0.         0.         0.         0.         0.         0.\n",
      " 0.         0.         0.         0.         0.         0.\n",
      " 0.         0.         0.         0.         0.         0.\n",
      " 0.         0.         0.         0.         0.         0.\n",
      " 0.         0.         0.         0.         0.         0.\n",
      " 0.         0.         0.         0.         0.         0.\n",
      " 0.         0.         0.         0.         0.         0.\n",
      " 0.         0.         0.         0.         0.         0.\n",
      " 0.         0.         0.         0.         0.         0.\n",
      " 0.         0.         0.         0.         0.         0.\n",
      " 0.         0.         0.         0.         0.         0.\n",
      " 0.         0.         0.         0.         0.         0.\n",
      " 0.         0.         0.         0.         0.         0.\n",
      " 0.         0.         0.         0.         0.         0.\n",
      " 0.         0.         0.         0.         0.         0.\n",
      " 0.         0.         0.         0.         0.         0.\n",
      " 0.         0.         0.01176471 0.07058824 0.07058824 0.07058824\n",
      " 0.49411765 0.53333336 0.6862745  0.10196079 0.6509804  1.\n",
      " 0.96862745 0.49803922 0.         0.         0.         0.\n",
      " 0.         0.         0.         0.         0.         0.\n",
      " 0.         0.         0.11764706 0.14117648 0.36862746 0.6039216\n",
      " 0.6666667  0.99215686 0.99215686 0.99215686 0.99215686 0.99215686\n",
      " 0.88235295 0.6745098  0.99215686 0.9490196  0.7647059  0.2509804\n",
      " 0.         0.         0.         0.         0.         0.\n",
      " 0.         0.         0.         0.         0.         0.19215687\n",
      " 0.93333334 0.99215686 0.99215686 0.99215686 0.99215686 0.99215686\n",
      " 0.99215686 0.99215686 0.99215686 0.9843137  0.3647059  0.32156864\n",
      " 0.32156864 0.21960784 0.15294118 0.         0.         0.\n",
      " 0.         0.         0.         0.         0.         0.\n",
      " 0.         0.         0.         0.07058824 0.85882354 0.99215686\n",
      " 0.99215686 0.99215686 0.99215686 0.99215686 0.7764706  0.7137255\n",
      " 0.96862745 0.94509804 0.         0.         0.         0.\n",
      " 0.         0.         0.         0.         0.         0.\n",
      " 0.         0.         0.         0.         0.         0.\n",
      " 0.         0.         0.3137255  0.6117647  0.41960785 0.99215686\n",
      " 0.99215686 0.8039216  0.04313726 0.         0.16862746 0.6039216\n",
      " 0.         0.         0.         0.         0.         0.\n",
      " 0.         0.         0.         0.         0.         0.\n",
      " 0.         0.         0.         0.         0.         0.\n",
      " 0.         0.05490196 0.00392157 0.6039216  0.99215686 0.3529412\n",
      " 0.         0.         0.         0.         0.         0.\n",
      " 0.         0.         0.         0.         0.         0.\n",
      " 0.         0.         0.         0.         0.         0.\n",
      " 0.         0.         0.         0.         0.         0.\n",
      " 0.         0.54509807 0.99215686 0.74509805 0.00784314 0.\n",
      " 0.         0.         0.         0.         0.         0.\n",
      " 0.         0.         0.         0.         0.         0.\n",
      " 0.         0.         0.         0.         0.         0.\n",
      " 0.         0.         0.         0.         0.         0.04313726\n",
      " 0.74509805 0.99215686 0.27450982 0.         0.         0.\n",
      " 0.         0.         0.         0.         0.         0.\n",
      " 0.         0.         0.         0.         0.         0.\n",
      " 0.         0.         0.         0.         0.         0.\n",
      " 0.         0.         0.         0.         0.13725491 0.94509804\n",
      " 0.88235295 0.627451   0.42352942 0.00392157 0.         0.\n",
      " 0.         0.         0.         0.         0.         0.\n",
      " 0.         0.         0.         0.         0.         0.\n",
      " 0.         0.         0.         0.         0.         0.\n",
      " 0.         0.         0.         0.31764707 0.9411765  0.99215686\n",
      " 0.99215686 0.46666667 0.09803922 0.         0.         0.\n",
      " 0.         0.         0.         0.         0.         0.\n",
      " 0.         0.         0.         0.         0.         0.\n",
      " 0.         0.         0.         0.         0.         0.\n",
      " 0.         0.         0.1764706  0.7294118  0.99215686 0.99215686\n",
      " 0.5882353  0.10588235 0.         0.         0.         0.\n",
      " 0.         0.         0.         0.         0.         0.\n",
      " 0.         0.         0.         0.         0.         0.\n",
      " 0.         0.         0.         0.         0.         0.\n",
      " 0.         0.0627451  0.3647059  0.9882353  0.99215686 0.73333335\n",
      " 0.         0.         0.         0.         0.         0.\n",
      " 0.         0.         0.         0.         0.         0.\n",
      " 0.         0.         0.         0.         0.         0.\n",
      " 0.         0.         0.         0.         0.         0.\n",
      " 0.         0.9764706  0.99215686 0.9764706  0.2509804  0.\n",
      " 0.         0.         0.         0.         0.         0.\n",
      " 0.         0.         0.         0.         0.         0.\n",
      " 0.         0.         0.         0.         0.         0.\n",
      " 0.         0.         0.18039216 0.50980395 0.7176471  0.99215686\n",
      " 0.99215686 0.8117647  0.00784314 0.         0.         0.\n",
      " 0.         0.         0.         0.         0.         0.\n",
      " 0.         0.         0.         0.         0.         0.\n",
      " 0.         0.         0.         0.         0.15294118 0.5803922\n",
      " 0.8980392  0.99215686 0.99215686 0.99215686 0.98039216 0.7137255\n",
      " 0.         0.         0.         0.         0.         0.\n",
      " 0.         0.         0.         0.         0.         0.\n",
      " 0.         0.         0.         0.         0.         0.\n",
      " 0.09411765 0.44705883 0.8666667  0.99215686 0.99215686 0.99215686\n",
      " 0.99215686 0.7882353  0.30588236 0.         0.         0.\n",
      " 0.         0.         0.         0.         0.         0.\n",
      " 0.         0.         0.         0.         0.         0.\n",
      " 0.         0.         0.09019608 0.25882354 0.8352941  0.99215686\n",
      " 0.99215686 0.99215686 0.99215686 0.7764706  0.31764707 0.00784314\n",
      " 0.         0.         0.         0.         0.         0.\n",
      " 0.         0.         0.         0.         0.         0.\n",
      " 0.         0.         0.         0.         0.07058824 0.67058825\n",
      " 0.85882354 0.99215686 0.99215686 0.99215686 0.99215686 0.7647059\n",
      " 0.3137255  0.03529412 0.         0.         0.         0.\n",
      " 0.         0.         0.         0.         0.         0.\n",
      " 0.         0.         0.         0.         0.         0.\n",
      " 0.21568628 0.6745098  0.8862745  0.99215686 0.99215686 0.99215686\n",
      " 0.99215686 0.95686275 0.52156866 0.04313726 0.         0.\n",
      " 0.         0.         0.         0.         0.         0.\n",
      " 0.         0.         0.         0.         0.         0.\n",
      " 0.         0.         0.         0.         0.53333336 0.99215686\n",
      " 0.99215686 0.99215686 0.83137256 0.5294118  0.5176471  0.0627451\n",
      " 0.         0.         0.         0.         0.         0.\n",
      " 0.         0.         0.         0.         0.         0.\n",
      " 0.         0.         0.         0.         0.         0.\n",
      " 0.         0.         0.         0.         0.         0.\n",
      " 0.         0.         0.         0.         0.         0.\n",
      " 0.         0.         0.         0.         0.         0.\n",
      " 0.         0.         0.         0.         0.         0.\n",
      " 0.         0.         0.         0.         0.         0.\n",
      " 0.         0.         0.         0.         0.         0.\n",
      " 0.         0.         0.         0.         0.         0.\n",
      " 0.         0.         0.         0.         0.         0.\n",
      " 0.         0.         0.         0.         0.         0.\n",
      " 0.         0.         0.         0.         0.         0.\n",
      " 0.         0.         0.         0.         0.         0.\n",
      " 0.         0.         0.         0.         0.         0.\n",
      " 0.         0.         0.         0.         0.         0.\n",
      " 0.         0.         0.         0.        ]\n"
     ]
    }
   ],
   "source": [
    "N_train = 60000\n",
    "N_test = 10000\n",
    "\n",
    "print(X_train.shape)\n",
    "X_train_shaped = np.reshape(X_train,(60000, 784))\n",
    "X_train_scaled = X_train_shaped.astype(\"float32\", copy = True)\n",
    "X_train_final = X_train_scaled/255\n",
    "print(X_train_final[0])\n",
    "\n",
    "X_test_shaped = np.reshape(X_test,(10000, 784))\n",
    "X_test_scaled = X_test_shaped.astype(\"float32\", copy = True)\n",
    "X_test_final = X_test_scaled/255"
   ]
  },
  {
   "cell_type": "markdown",
   "metadata": {},
   "source": [
    "### Préparation des vecteurs d'étiquettes\n",
    "\n",
    "<br>\n",
    "\n",
    "Lorsqu'on charge le dataset, les étiquettes sont codées sous la forme d'un nombre entier compris entre 0 et 9. Cette façon de représenter les différentes classes présente un inconvénient: puisque les labels (1, 2, ..., 9) ont une relation d'ordre (1 < 2 < ... < 9) cette représentation tend implicitement à considérer que les classes elles-mêmes sont ordonnées (classe 1 < classe 2 < ... < classe 9). Cette forme de représentation est parfaitement adaptée à certains problèmes, par exemple si les classes sont *très froid*, *froid*, *tiède*, *chaud*, *très chaud*. En revanche, lorsque les classes ne présentent aucune relation d'ordre, il est préférable d'éviter ce type de représentation. On va alors utiliser un encodage de type *one-hot* consistant à créer une étiquette de dimension $K$ s'il y a $K$ classes. Pour une donnée appartenant à la classe $m$, toutes les composantes seront nulles sauf la composante $m$ qui aura la valeur 1.\n",
    "\n",
    "**Exercice**\n",
    "\n",
    "- En utilisant la fonction <code>keras.utils.to_categorical()</code>, créez deux variables de sortie *y_train_onehot* et *y_test_onehot* encodant les étiquettes des données d'entraînement et de test de cette façon.\n",
    "- Affichez à l'écran les 10 premières composantes de *y_train* et de *y_train_one_hot*.\n",
    "\n",
    "<br>"
   ]
  },
  {
   "cell_type": "code",
   "execution_count": 35,
   "metadata": {
    "ExecuteTime": {
     "end_time": "2023-10-13T13:02:02.012294Z",
     "start_time": "2023-10-13T13:02:02.000195900Z"
    }
   },
   "outputs": [
    {
     "name": "stdout",
     "output_type": "stream",
     "text": [
      "[0. 0. 0. 0. 0. 1. 0. 0. 0. 0.]\n"
     ]
    }
   ],
   "source": [
    "y_train_onehot = keras.utils.to_categorical(y_train, num_classes=10)\n",
    "y_test_onehot = keras.utils.to_categorical(y_test, num_classes=10)\n",
    "\n",
    "print(y_train_onehot[0])"
   ]
  },
  {
   "cell_type": "markdown",
   "metadata": {},
   "source": [
    "<br>\n",
    "\n",
    "## Perceptron multi-couches\n",
    "\n",
    "<br>\n",
    "\n",
    "**Exercice**\n",
    "\n",
    "- Pour ce problème, combien d'unités la couche de sortie doit-elle comporter ? Quelle fonction d'activation cette couche doit-elle utiliser ?\n",
    "Couche de sortie doit comporter 10 couches. Elle doit utiliser la fonction d'activation softmax.\n",
    "- Construire un réseau neuronal comportant 2 couches cachées de 100 unités avec une activation de type *relu* et 1 couche de sortie.\n",
    "- Combien de paramètres votre modèle va t-il devoir ajuster ?\n",
    "- Compiler le modèle en choisissant la fonction de coût 'categorical_crossentropy', l'algorithme de descente SGD et la métrique d'évaluation 'accuracy'.\n",
    "- Entraîner le modèle avec des valeurs de paramètres *batch_size*, *epochs* et *validation_split* égales respectivement à 32, 10 et 0,2. Quels sont les rôles de ces paramètres ?\n",
    "\n",
    "<br>"
   ]
  },
  {
   "cell_type": "code",
   "execution_count": 115,
   "metadata": {
    "ExecuteTime": {
     "end_time": "2023-10-13T14:51:24.636538600Z",
     "start_time": "2023-10-13T14:51:24.548136800Z"
    }
   },
   "outputs": [
    {
     "name": "stdout",
     "output_type": "stream",
     "text": [
      "Model: \"sequential_20\"\n",
      "_________________________________________________________________\n",
      " Layer (type)                Output Shape              Param #   \n",
      "=================================================================\n",
      " dense_44 (Dense)            (None, 100)               78500     \n",
      "                                                                 \n",
      " dense_45 (Dense)            (None, 100)               10100     \n",
      "                                                                 \n",
      " dense_46 (Dense)            (None, 10)                1010      \n",
      "                                                                 \n",
      "=================================================================\n",
      "Total params: 89610 (350.04 KB)\n",
      "Trainable params: 89610 (350.04 KB)\n",
      "Non-trainable params: 0 (0.00 Byte)\n",
      "_________________________________________________________________\n"
     ]
    }
   ],
   "source": [
    "# Création du modèle\n",
    "from tensorflow.keras.callbacks import ModelCheckpoint, EarlyStopping\n",
    "from tensorflow.keras.models import Sequential\n",
    "from tensorflow.keras.layers import Dense, Dropout\n",
    "\n",
    "cb_sauvegarde = ModelCheckpoint(filepath='mnist_1.h5', save_best_only=True)\n",
    "cb_earlystopping = EarlyStopping(monitor=\"val_accuracy\", patience=5)\n",
    "\n",
    "model = Sequential()\n",
    "\n",
    "model.add(Dense(units=100, activation='relu', input_shape=(784,)))\n",
    "model.add(Dense(units=100, activation='relu', input_shape=(100,)))\n",
    "model.add(Dense(units=10, activation='softmax'))\n",
    "\n",
    "model.summary()"
   ]
  },
  {
   "cell_type": "code",
   "execution_count": 46,
   "metadata": {
    "ExecuteTime": {
     "end_time": "2023-10-13T13:05:45.415755500Z",
     "start_time": "2023-10-13T13:05:45.406264900Z"
    }
   },
   "outputs": [],
   "source": [
    "# Compilation du modèle\n",
    "model.compile(loss='categorical_crossentropy',\n",
    "              optimizer=keras.optimizers.SGD(learning_rate=0.01, momentum=0.9),\n",
    "              metrics=['accuracy'])"
   ]
  },
  {
   "cell_type": "code",
   "execution_count": 47,
   "metadata": {
    "ExecuteTime": {
     "end_time": "2023-10-13T13:06:06.992937500Z",
     "start_time": "2023-10-13T13:05:46.767913200Z"
    }
   },
   "outputs": [
    {
     "name": "stdout",
     "output_type": "stream",
     "text": [
      "Epoch 1/10\n",
      "1500/1500 [==============================] - 2s 1ms/step - loss: 0.3195 - accuracy: 0.9060 - val_loss: 0.1574 - val_accuracy: 0.9540\n",
      "Epoch 2/10\n",
      "1500/1500 [==============================] - 2s 1ms/step - loss: 0.1349 - accuracy: 0.9598 - val_loss: 0.1300 - val_accuracy: 0.9609\n",
      "Epoch 3/10\n",
      "1500/1500 [==============================] - 2s 1ms/step - loss: 0.0957 - accuracy: 0.9714 - val_loss: 0.1117 - val_accuracy: 0.9666\n",
      "Epoch 4/10\n",
      "1500/1500 [==============================] - 2s 1ms/step - loss: 0.0730 - accuracy: 0.9783 - val_loss: 0.0994 - val_accuracy: 0.9712\n",
      "Epoch 5/10\n",
      "1500/1500 [==============================] - 2s 1ms/step - loss: 0.0577 - accuracy: 0.9824 - val_loss: 0.0978 - val_accuracy: 0.9729\n",
      "Epoch 6/10\n",
      "1500/1500 [==============================] - 2s 1ms/step - loss: 0.0477 - accuracy: 0.9853 - val_loss: 0.0871 - val_accuracy: 0.9754\n",
      "Epoch 7/10\n",
      "1500/1500 [==============================] - 2s 1ms/step - loss: 0.0392 - accuracy: 0.9874 - val_loss: 0.0960 - val_accuracy: 0.9733\n",
      "Epoch 8/10\n",
      "1500/1500 [==============================] - 2s 1ms/step - loss: 0.0309 - accuracy: 0.9906 - val_loss: 0.0879 - val_accuracy: 0.9763\n",
      "Epoch 9/10\n",
      "1500/1500 [==============================] - 2s 1ms/step - loss: 0.0251 - accuracy: 0.9924 - val_loss: 0.0964 - val_accuracy: 0.9749\n",
      "Epoch 10/10\n",
      "1500/1500 [==============================] - 2s 1ms/step - loss: 0.0225 - accuracy: 0.9928 - val_loss: 0.0908 - val_accuracy: 0.9763\n"
     ]
    },
    {
     "data": {
      "text/plain": "<keras.src.callbacks.History at 0x2339d8e4370>"
     },
     "execution_count": 47,
     "metadata": {},
     "output_type": "execute_result"
    }
   ],
   "source": [
    "# Entraînement du modèle\n",
    "history = model.fit(X_train_final, y_train_onehot, epochs=10, batch_size=32, validation_split=0.2, callbacks=[cb_sauvegarde, cb_earlystopping])\n",
    "history"
   ]
  },
  {
   "cell_type": "markdown",
   "metadata": {},
   "source": [
    "<br>\n",
    "\n",
    "La méthode <code>fit()</code> renvoie comme résultat un objet de la classe <code>History</code> dont l'attribut History.history est un dictionnaire contenant les valeurs de la fonction de coût et de la métrique d'évaluation pour chaque époque:\n",
    "- History.history['loss'] : valeurs de la fonction de coût pour les données d'entraînement\n",
    "- History.history['accuracy'] : valeurs de la métrique d'évaluation pour les données d'entraînement\n",
    "- History.history['val_loss'] : valeurs de la fonction de coût pour les données de validatin\n",
    "- History.history['val_accuracy'] : valeurs de la métrique d'évaluation pour les données de validation\n",
    "\n",
    "<br>\n",
    "\n",
    "**Exercice**\n",
    "\n",
    "Représenter sur un graphe l'évolution de la fonction de coût et de la métrique d'évaluation, pour les données d'entraînement et de validation au cours de l'entraînement du réseau.\n",
    "\n",
    "<br>"
   ]
  },
  {
   "cell_type": "code",
   "execution_count": 52,
   "metadata": {
    "ExecuteTime": {
     "end_time": "2023-10-13T13:21:53.590009700Z",
     "start_time": "2023-10-13T13:21:53.451011Z"
    }
   },
   "outputs": [
    {
     "data": {
      "text/plain": "<Figure size 640x480 with 1 Axes>",
      "image/png": "[encoded data removed]"
     },
     "metadata": {},
     "output_type": "display_data"
    }
   ],
   "source": [
    "import matplotlib.pyplot as plt\n",
    "\n",
    "plt.plot(history.history['loss'], label='train loss')\n",
    "plt.plot(history.history['accuracy'], label='train accuracy')\n",
    "plt.plot(history.history['val_loss'], label='validation loss')\n",
    "plt.plot(history.history['val_accuracy'], label='validation accuracy')\n",
    "plt.legend()\n",
    "plt.show()"
   ]
  },
  {
   "cell_type": "markdown",
   "metadata": {},
   "source": [
    "<br>\n",
    "\n",
    "**Exercice**\n",
    "\n",
    "- Optimiser les hyper-paramètres du modèle (taux d'apprentissag, nombre d'époques d'entraînement, choix de l'optimiseur, architecture du réseau, etc).\n",
    "- Déterminer la performance prédictive que l'on peut attendre du modèle pour de nouvelles données.\n",
    "\n",
    "<br>"
   ]
  },
  {
   "cell_type": "code",
   "execution_count": 60,
   "metadata": {
    "ExecuteTime": {
     "end_time": "2023-10-13T13:36:08.368100700Z",
     "start_time": "2023-10-13T13:36:08.355275700Z"
    }
   },
   "outputs": [],
   "source": []
  },
  {
   "cell_type": "markdown",
   "metadata": {},
   "source": [
    "<br>\n",
    "\n",
    "## Réseau convolutif\n",
    "\n",
    "<br>\n",
    "\n",
    "Pour obtenir de bons résultats avec des réseaux neuronaux, il est généralement nécessaire de les structurer. Les réseaux totalement connectés possèdent un très grand nombre de paramètres indépendants et nécessitent d'énormes quantités de données d'entraînement pour pouvoir produire des modèles performants. Les réseaux convolutifs permettent d'obtenir d'excellents résultats pour une grande variété de problèmes, en particulier dans le domaine de l'analyse d'images.\n",
    "\n",
    "<br>\n",
    "\n",
    "Pour construire un réseau neuronal convolutif capable de traiter des images, on va utiliser des structures <code>keras.layers.Conv2D()</code> et <code>keras.layers.MaxPooling2D()</code>. Ces couches permettent de traiter des données 2D multi-canaux. Dans le cas des données MNIST, il n'y a qu'un seul canal car les images ont été enregistrées en échelle de gris. Dans le cas d'images en couleur, il y aurait 3 canaux (rouge, vert, bleu). Les données que l'on fournit en entrée au réseau doivent être représentées sous la forme d'un tableau à 4 dimensions:\n",
    "- dimension 1: numéro de la donnée\n",
    "- dimention 2: indice de la ligne\n",
    "- dimension 3: indice de la colonne\n",
    "- dimension 4: numéro de canal\n",
    "\n",
    "Keras permet en fait de mettre le numéro de canal comme première ou dernière dimension. Pour voir comment est configuré Keras on peut utiliser la commande suivante\n",
    "\n",
    "<br>\n"
   ]
  },
  {
   "cell_type": "code",
   "execution_count": 61,
   "metadata": {
    "ExecuteTime": {
     "end_time": "2023-10-13T13:48:46.129436700Z",
     "start_time": "2023-10-13T13:48:46.115927900Z"
    }
   },
   "outputs": [
    {
     "data": {
      "text/plain": "'channels_last'"
     },
     "execution_count": 61,
     "metadata": {},
     "output_type": "execute_result"
    }
   ],
   "source": [
    "keras.backend.image_data_format()"
   ]
  },
  {
   "cell_type": "markdown",
   "metadata": {},
   "source": [
    "<br>\n",
    "\n",
    "**Exercice**\n",
    "\n",
    "Mettre les données $X$ d'entraînement et de test sous la forme de tableaux de dimension (data_num, row_num, col_num, 1).\n",
    "\n",
    "<br>"
   ]
  },
  {
   "cell_type": "code",
   "execution_count": 62,
   "metadata": {
    "ExecuteTime": {
     "end_time": "2023-10-13T13:51:30.712627600Z",
     "start_time": "2023-10-13T13:51:30.696598500Z"
    }
   },
   "outputs": [
    {
     "data": {
      "text/plain": "(60000, 28, 28, 1)"
     },
     "execution_count": 62,
     "metadata": {},
     "output_type": "execute_result"
    }
   ],
   "source": [
    "X_train_final2 = np.reshape(X_train_final, (60000, 28, 28, 1))\n",
    "X_train_final2.shape"
   ]
  },
  {
   "cell_type": "markdown",
   "metadata": {},
   "source": [
    "<br>\n",
    "\n",
    "**Exercice**\n",
    "\n",
    "Construire un réseau convolutif ayant la structure suivante:\n",
    "- 1 couche de convolution avec 10 filtres de taille $5 \\times 5$ et une activation 'relu'\n",
    "- 1 couche de pooling renvoyant la valeur maximale des entrées sur un zone 2$\\times$2 \n",
    "- 1 couche de convolution avec 20 filtres de taille $5 \\times 5$ et une activation 'relu'\n",
    "- 1 couche de pooling renvoyant la valeur maximale des entrées sur un zone 2$\\times$2 \n",
    "- 1 couche de type <code>keras.layers.Flatten()</code>; que fait cette couche ?\n",
    "- 1 couche <code>keras.layers.Dense()</code> avec une activation 'relu' et un nombre d'unités égal au nombre de sorties de la couche précédente\n",
    "- 1 couche de sortie\n",
    "\n",
    "<br>\n"
   ]
  },
  {
   "cell_type": "code",
   "execution_count": 131,
   "metadata": {
    "ExecuteTime": {
     "end_time": "2023-10-13T14:54:36.553869Z",
     "start_time": "2023-10-13T14:54:36.253882900Z"
    }
   },
   "outputs": [
    {
     "name": "stdout",
     "output_type": "stream",
     "text": [
      "Model: \"sequential_34\"\n",
      "_________________________________________________________________\n",
      " Layer (type)                Output Shape              Param #   \n",
      "=================================================================\n",
      " conv2d_73 (Conv2D)          (None, 24, 24, 10)        260       \n",
      "                                                                 \n",
      " max_pooling2d_63 (MaxPooli  (None, 12, 12, 10)        0         \n",
      " ng2D)                                                           \n",
      "                                                                 \n",
      " dense_93 (Dense)            (None, 12, 12, 256)       2816      \n",
      "                                                                 \n",
      " dense_94 (Dense)            (None, 12, 12, 512)       131584    \n",
      "                                                                 \n",
      " conv2d_74 (Conv2D)          (None, 10, 10, 10)        46090     \n",
      "                                                                 \n",
      " max_pooling2d_64 (MaxPooli  (None, 5, 5, 10)          0         \n",
      " ng2D)                                                           \n",
      "                                                                 \n",
      " dropout_12 (Dropout)        (None, 5, 5, 10)          0         \n",
      "                                                                 \n",
      " dense_95 (Dense)            (None, 5, 5, 512)         5632      \n",
      "                                                                 \n",
      " conv2d_75 (Conv2D)          (None, 1, 1, 20)          256020    \n",
      "                                                                 \n",
      " flatten_20 (Flatten)        (None, 20)                0         \n",
      "                                                                 \n",
      " dense_96 (Dense)            (None, 512)               10752     \n",
      "                                                                 \n",
      " dense_97 (Dense)            (None, 128)               65664     \n",
      "                                                                 \n",
      " dropout_13 (Dropout)        (None, 128)               0         \n",
      "                                                                 \n",
      " dense_98 (Dense)            (None, 10)                1290      \n",
      "                                                                 \n",
      "=================================================================\n",
      "Total params: 520108 (1.98 MB)\n",
      "Trainable params: 520108 (1.98 MB)\n",
      "Non-trainable params: 0 (0.00 Byte)\n",
      "_________________________________________________________________\n"
     ]
    }
   ],
   "source": [
    "#Création du modèle\n",
    "\n",
    "cb_sauvegarde = ModelCheckpoint(filepath='mnist_1.h5', save_best_only=True)\n",
    "cb_earlystopping = EarlyStopping(monitor=\"val_accuracy\", patience=5)\n",
    "\n",
    "model = Sequential()\n",
    "\n",
    "model.add(keras.layers.Conv2D(filters=10, kernel_size=(5,5), activation='relu', input_shape=(28,28,1)))\n",
    "model.add(keras.layers.MaxPooling2D(pool_size=(2,2)))\n",
    "model.add(keras.layers.Dense(units=256, activation='relu'))\n",
    "model.add(keras.layers.Dense(units=512, activation='relu'))\n",
    "model.add(keras.layers.Conv2D(filters=10, kernel_size=(3,3), activation='relu', input_shape=(28,28,1)))\n",
    "model.add(keras.layers.MaxPooling2D(pool_size=(2,2)))\n",
    "model.add(Dropout(0.5))\n",
    "model.add(keras.layers.Dense(units=512, activation='relu'))\n",
    "model.add(keras.layers.Conv2D(filters=20, kernel_size=(5,5), activation='relu'))\n",
    "model.add(keras.layers.Flatten()) # Aplatit les données : 28*28*1 -> 784\n",
    "model.add(keras.layers.Dense(units=512, activation='relu'))\n",
    "model.add(keras.layers.Dense(units=128, activation='relu'))\n",
    "model.add(Dropout(0.5))\n",
    "model.add(keras.layers.Dense(units=10, activation='softmax'))\n",
    "\n",
    "model.summary()"
   ]
  },
  {
   "cell_type": "markdown",
   "metadata": {},
   "source": [
    "<br>\n",
    "\n",
    "**Exercice**\n",
    "\n",
    "Compiler et entraîner le modèle avec les paramètres suivants:\n",
    "- fonction de coût: categorical_crossentropy\n",
    "- algorithme d'optimisation: Adam\n",
    "- métrique d'évaluation: accuracy\n",
    "- taille des mini-lots: 64\n",
    "- nombre d'époques: 10\n",
    "- données utilisées pour la validation: 20%\n",
    "\n",
    "<br>"
   ]
  },
  {
   "cell_type": "code",
   "execution_count": null,
   "outputs": [],
   "source": [],
   "metadata": {
    "collapsed": false
   }
  },
  {
   "cell_type": "code",
   "execution_count": 132,
   "metadata": {
    "ExecuteTime": {
     "end_time": "2023-10-13T14:54:40.505598100Z",
     "start_time": "2023-10-13T14:54:40.473912Z"
    }
   },
   "outputs": [],
   "source": [
    "# Compilation du modèle\n",
    "model.compile(loss='categorical_crossentropy',\n",
    "              optimizer=keras.optimizers.Adam(learning_rate=0.001),\n",
    "              metrics=['accuracy'])"
   ]
  },
  {
   "cell_type": "code",
   "execution_count": 133,
   "metadata": {
    "ExecuteTime": {
     "end_time": "2023-10-13T15:02:21.837305700Z",
     "start_time": "2023-10-13T14:54:41.701536900Z"
    }
   },
   "outputs": [
    {
     "name": "stdout",
     "output_type": "stream",
     "text": [
      "Epoch 1/10\n",
      "750/750 [==============================] - 78s 101ms/step - loss: 0.7403 - accuracy: 0.7607 - val_loss: 0.2026 - val_accuracy: 0.9438\n",
      "Epoch 2/10\n",
      "750/750 [==============================] - 75s 100ms/step - loss: 0.3944 - accuracy: 0.8813 - val_loss: 0.1597 - val_accuracy: 0.9561\n",
      "Epoch 3/10\n",
      "750/750 [==============================] - 75s 100ms/step - loss: 0.2631 - accuracy: 0.9224 - val_loss: 0.2350 - val_accuracy: 0.9417\n",
      "Epoch 4/10\n",
      "750/750 [==============================] - 74s 99ms/step - loss: 0.1884 - accuracy: 0.9464 - val_loss: 0.1337 - val_accuracy: 0.9645\n",
      "Epoch 5/10\n",
      "750/750 [==============================] - 75s 101ms/step - loss: 0.1672 - accuracy: 0.9518 - val_loss: 0.1675 - val_accuracy: 0.9597\n",
      "Epoch 6/10\n",
      "750/750 [==============================] - 75s 100ms/step - loss: 0.1573 - accuracy: 0.9538 - val_loss: 0.1853 - val_accuracy: 0.9500\n",
      "Epoch 7/10\n",
      " 68/750 [=>............................] - ETA: 1:04 - loss: 0.1487 - accuracy: 0.9593"
     ]
    },
    {
     "ename": "KeyboardInterrupt",
     "evalue": "",
     "output_type": "error",
     "traceback": [
      "\u001B[1;31m---------------------------------------------------------------------------\u001B[0m",
      "\u001B[1;31mKeyboardInterrupt\u001B[0m                         Traceback (most recent call last)",
      "\u001B[1;32m~\\AppData\\Local\\Temp\\ipykernel_15832\\2041657015.py\u001B[0m in \u001B[0;36m<module>\u001B[1;34m\u001B[0m\n\u001B[0;32m      1\u001B[0m \u001B[1;31m# Entraînement du modèle\u001B[0m\u001B[1;33m\u001B[0m\u001B[1;33m\u001B[0m\u001B[0m\n\u001B[1;32m----> 2\u001B[1;33m \u001B[0mhistory\u001B[0m \u001B[1;33m=\u001B[0m \u001B[0mmodel\u001B[0m\u001B[1;33m.\u001B[0m\u001B[0mfit\u001B[0m\u001B[1;33m(\u001B[0m\u001B[0mX_train_final2\u001B[0m\u001B[1;33m,\u001B[0m \u001B[0my_train_onehot\u001B[0m\u001B[1;33m,\u001B[0m \u001B[0mepochs\u001B[0m\u001B[1;33m=\u001B[0m\u001B[1;36m10\u001B[0m\u001B[1;33m,\u001B[0m \u001B[0mbatch_size\u001B[0m\u001B[1;33m=\u001B[0m\u001B[1;36m64\u001B[0m\u001B[1;33m,\u001B[0m \u001B[0mvalidation_split\u001B[0m\u001B[1;33m=\u001B[0m\u001B[1;36m0.2\u001B[0m\u001B[1;33m,\u001B[0m \u001B[0mcallbacks\u001B[0m\u001B[1;33m=\u001B[0m\u001B[1;33m[\u001B[0m\u001B[0mcb_sauvegarde\u001B[0m\u001B[1;33m,\u001B[0m \u001B[0mcb_earlystopping\u001B[0m\u001B[1;33m]\u001B[0m\u001B[1;33m)\u001B[0m\u001B[1;33m\u001B[0m\u001B[1;33m\u001B[0m\u001B[0m\n\u001B[0m",
      "\u001B[1;32m~\\anaconda3\\lib\\site-packages\\keras\\src\\utils\\traceback_utils.py\u001B[0m in \u001B[0;36merror_handler\u001B[1;34m(*args, **kwargs)\u001B[0m\n\u001B[0;32m     63\u001B[0m         \u001B[0mfiltered_tb\u001B[0m \u001B[1;33m=\u001B[0m \u001B[1;32mNone\u001B[0m\u001B[1;33m\u001B[0m\u001B[1;33m\u001B[0m\u001B[0m\n\u001B[0;32m     64\u001B[0m         \u001B[1;32mtry\u001B[0m\u001B[1;33m:\u001B[0m\u001B[1;33m\u001B[0m\u001B[1;33m\u001B[0m\u001B[0m\n\u001B[1;32m---> 65\u001B[1;33m             \u001B[1;32mreturn\u001B[0m \u001B[0mfn\u001B[0m\u001B[1;33m(\u001B[0m\u001B[1;33m*\u001B[0m\u001B[0margs\u001B[0m\u001B[1;33m,\u001B[0m \u001B[1;33m**\u001B[0m\u001B[0mkwargs\u001B[0m\u001B[1;33m)\u001B[0m\u001B[1;33m\u001B[0m\u001B[1;33m\u001B[0m\u001B[0m\n\u001B[0m\u001B[0;32m     66\u001B[0m         \u001B[1;32mexcept\u001B[0m \u001B[0mException\u001B[0m \u001B[1;32mas\u001B[0m \u001B[0me\u001B[0m\u001B[1;33m:\u001B[0m\u001B[1;33m\u001B[0m\u001B[1;33m\u001B[0m\u001B[0m\n\u001B[0;32m     67\u001B[0m             \u001B[0mfiltered_tb\u001B[0m \u001B[1;33m=\u001B[0m \u001B[0m_process_traceback_frames\u001B[0m\u001B[1;33m(\u001B[0m\u001B[0me\u001B[0m\u001B[1;33m.\u001B[0m\u001B[0m__traceback__\u001B[0m\u001B[1;33m)\u001B[0m\u001B[1;33m\u001B[0m\u001B[1;33m\u001B[0m\u001B[0m\n",
      "\u001B[1;32m~\\anaconda3\\lib\\site-packages\\keras\\src\\engine\\training.py\u001B[0m in \u001B[0;36mfit\u001B[1;34m(self, x, y, batch_size, epochs, verbose, callbacks, validation_split, validation_data, shuffle, class_weight, sample_weight, initial_epoch, steps_per_epoch, validation_steps, validation_batch_size, validation_freq, max_queue_size, workers, use_multiprocessing)\u001B[0m\n\u001B[0;32m   1781\u001B[0m                         ):\n\u001B[0;32m   1782\u001B[0m                             \u001B[0mcallbacks\u001B[0m\u001B[1;33m.\u001B[0m\u001B[0mon_train_batch_begin\u001B[0m\u001B[1;33m(\u001B[0m\u001B[0mstep\u001B[0m\u001B[1;33m)\u001B[0m\u001B[1;33m\u001B[0m\u001B[1;33m\u001B[0m\u001B[0m\n\u001B[1;32m-> 1783\u001B[1;33m                             \u001B[0mtmp_logs\u001B[0m \u001B[1;33m=\u001B[0m \u001B[0mself\u001B[0m\u001B[1;33m.\u001B[0m\u001B[0mtrain_function\u001B[0m\u001B[1;33m(\u001B[0m\u001B[0miterator\u001B[0m\u001B[1;33m)\u001B[0m\u001B[1;33m\u001B[0m\u001B[1;33m\u001B[0m\u001B[0m\n\u001B[0m\u001B[0;32m   1784\u001B[0m                             \u001B[1;32mif\u001B[0m \u001B[0mdata_handler\u001B[0m\u001B[1;33m.\u001B[0m\u001B[0mshould_sync\u001B[0m\u001B[1;33m:\u001B[0m\u001B[1;33m\u001B[0m\u001B[1;33m\u001B[0m\u001B[0m\n\u001B[0;32m   1785\u001B[0m                                 \u001B[0mcontext\u001B[0m\u001B[1;33m.\u001B[0m\u001B[0masync_wait\u001B[0m\u001B[1;33m(\u001B[0m\u001B[1;33m)\u001B[0m\u001B[1;33m\u001B[0m\u001B[1;33m\u001B[0m\u001B[0m\n",
      "\u001B[1;32m~\\anaconda3\\lib\\site-packages\\tensorflow\\python\\util\\traceback_utils.py\u001B[0m in \u001B[0;36merror_handler\u001B[1;34m(*args, **kwargs)\u001B[0m\n\u001B[0;32m    148\u001B[0m     \u001B[0mfiltered_tb\u001B[0m \u001B[1;33m=\u001B[0m \u001B[1;32mNone\u001B[0m\u001B[1;33m\u001B[0m\u001B[1;33m\u001B[0m\u001B[0m\n\u001B[0;32m    149\u001B[0m     \u001B[1;32mtry\u001B[0m\u001B[1;33m:\u001B[0m\u001B[1;33m\u001B[0m\u001B[1;33m\u001B[0m\u001B[0m\n\u001B[1;32m--> 150\u001B[1;33m       \u001B[1;32mreturn\u001B[0m \u001B[0mfn\u001B[0m\u001B[1;33m(\u001B[0m\u001B[1;33m*\u001B[0m\u001B[0margs\u001B[0m\u001B[1;33m,\u001B[0m \u001B[1;33m**\u001B[0m\u001B[0mkwargs\u001B[0m\u001B[1;33m)\u001B[0m\u001B[1;33m\u001B[0m\u001B[1;33m\u001B[0m\u001B[0m\n\u001B[0m\u001B[0;32m    151\u001B[0m     \u001B[1;32mexcept\u001B[0m \u001B[0mException\u001B[0m \u001B[1;32mas\u001B[0m \u001B[0me\u001B[0m\u001B[1;33m:\u001B[0m\u001B[1;33m\u001B[0m\u001B[1;33m\u001B[0m\u001B[0m\n\u001B[0;32m    152\u001B[0m       \u001B[0mfiltered_tb\u001B[0m \u001B[1;33m=\u001B[0m \u001B[0m_process_traceback_frames\u001B[0m\u001B[1;33m(\u001B[0m\u001B[0me\u001B[0m\u001B[1;33m.\u001B[0m\u001B[0m__traceback__\u001B[0m\u001B[1;33m)\u001B[0m\u001B[1;33m\u001B[0m\u001B[1;33m\u001B[0m\u001B[0m\n",
      "\u001B[1;32m~\\anaconda3\\lib\\site-packages\\tensorflow\\python\\eager\\polymorphic_function\\polymorphic_function.py\u001B[0m in \u001B[0;36m__call__\u001B[1;34m(self, *args, **kwds)\u001B[0m\n\u001B[0;32m    829\u001B[0m \u001B[1;33m\u001B[0m\u001B[0m\n\u001B[0;32m    830\u001B[0m       \u001B[1;32mwith\u001B[0m \u001B[0mOptionalXlaContext\u001B[0m\u001B[1;33m(\u001B[0m\u001B[0mself\u001B[0m\u001B[1;33m.\u001B[0m\u001B[0m_jit_compile\u001B[0m\u001B[1;33m)\u001B[0m\u001B[1;33m:\u001B[0m\u001B[1;33m\u001B[0m\u001B[1;33m\u001B[0m\u001B[0m\n\u001B[1;32m--> 831\u001B[1;33m         \u001B[0mresult\u001B[0m \u001B[1;33m=\u001B[0m \u001B[0mself\u001B[0m\u001B[1;33m.\u001B[0m\u001B[0m_call\u001B[0m\u001B[1;33m(\u001B[0m\u001B[1;33m*\u001B[0m\u001B[0margs\u001B[0m\u001B[1;33m,\u001B[0m \u001B[1;33m**\u001B[0m\u001B[0mkwds\u001B[0m\u001B[1;33m)\u001B[0m\u001B[1;33m\u001B[0m\u001B[1;33m\u001B[0m\u001B[0m\n\u001B[0m\u001B[0;32m    832\u001B[0m \u001B[1;33m\u001B[0m\u001B[0m\n\u001B[0;32m    833\u001B[0m       \u001B[0mnew_tracing_count\u001B[0m \u001B[1;33m=\u001B[0m \u001B[0mself\u001B[0m\u001B[1;33m.\u001B[0m\u001B[0mexperimental_get_tracing_count\u001B[0m\u001B[1;33m(\u001B[0m\u001B[1;33m)\u001B[0m\u001B[1;33m\u001B[0m\u001B[1;33m\u001B[0m\u001B[0m\n",
      "\u001B[1;32m~\\anaconda3\\lib\\site-packages\\tensorflow\\python\\eager\\polymorphic_function\\polymorphic_function.py\u001B[0m in \u001B[0;36m_call\u001B[1;34m(self, *args, **kwds)\u001B[0m\n\u001B[0;32m    865\u001B[0m       \u001B[1;31m# In this case we have created variables on the first call, so we run the\u001B[0m\u001B[1;33m\u001B[0m\u001B[1;33m\u001B[0m\u001B[0m\n\u001B[0;32m    866\u001B[0m       \u001B[1;31m# defunned version which is guaranteed to never create variables.\u001B[0m\u001B[1;33m\u001B[0m\u001B[1;33m\u001B[0m\u001B[0m\n\u001B[1;32m--> 867\u001B[1;33m       return tracing_compilation.call_function(\n\u001B[0m\u001B[0;32m    868\u001B[0m           \u001B[0margs\u001B[0m\u001B[1;33m,\u001B[0m \u001B[0mkwds\u001B[0m\u001B[1;33m,\u001B[0m \u001B[0mself\u001B[0m\u001B[1;33m.\u001B[0m\u001B[0m_no_variable_creation_config\u001B[0m\u001B[1;33m\u001B[0m\u001B[1;33m\u001B[0m\u001B[0m\n\u001B[0;32m    869\u001B[0m       )\n",
      "\u001B[1;32m~\\anaconda3\\lib\\site-packages\\tensorflow\\python\\eager\\polymorphic_function\\tracing_compilation.py\u001B[0m in \u001B[0;36mcall_function\u001B[1;34m(args, kwargs, tracing_options)\u001B[0m\n\u001B[0;32m    137\u001B[0m   \u001B[0mbound_args\u001B[0m \u001B[1;33m=\u001B[0m \u001B[0mfunction\u001B[0m\u001B[1;33m.\u001B[0m\u001B[0mfunction_type\u001B[0m\u001B[1;33m.\u001B[0m\u001B[0mbind\u001B[0m\u001B[1;33m(\u001B[0m\u001B[1;33m*\u001B[0m\u001B[0margs\u001B[0m\u001B[1;33m,\u001B[0m \u001B[1;33m**\u001B[0m\u001B[0mkwargs\u001B[0m\u001B[1;33m)\u001B[0m\u001B[1;33m\u001B[0m\u001B[1;33m\u001B[0m\u001B[0m\n\u001B[0;32m    138\u001B[0m   \u001B[0mflat_inputs\u001B[0m \u001B[1;33m=\u001B[0m \u001B[0mfunction\u001B[0m\u001B[1;33m.\u001B[0m\u001B[0mfunction_type\u001B[0m\u001B[1;33m.\u001B[0m\u001B[0munpack_inputs\u001B[0m\u001B[1;33m(\u001B[0m\u001B[0mbound_args\u001B[0m\u001B[1;33m)\u001B[0m\u001B[1;33m\u001B[0m\u001B[1;33m\u001B[0m\u001B[0m\n\u001B[1;32m--> 139\u001B[1;33m   return function._call_flat(  # pylint: disable=protected-access\n\u001B[0m\u001B[0;32m    140\u001B[0m       \u001B[0mflat_inputs\u001B[0m\u001B[1;33m,\u001B[0m \u001B[0mcaptured_inputs\u001B[0m\u001B[1;33m=\u001B[0m\u001B[0mfunction\u001B[0m\u001B[1;33m.\u001B[0m\u001B[0mcaptured_inputs\u001B[0m\u001B[1;33m\u001B[0m\u001B[1;33m\u001B[0m\u001B[0m\n\u001B[0;32m    141\u001B[0m   )\n",
      "\u001B[1;32m~\\anaconda3\\lib\\site-packages\\tensorflow\\python\\eager\\polymorphic_function\\concrete_function.py\u001B[0m in \u001B[0;36m_call_flat\u001B[1;34m(self, tensor_inputs, captured_inputs)\u001B[0m\n\u001B[0;32m   1262\u001B[0m         and executing_eagerly):\n\u001B[0;32m   1263\u001B[0m       \u001B[1;31m# No tape is watching; skip to running the function.\u001B[0m\u001B[1;33m\u001B[0m\u001B[1;33m\u001B[0m\u001B[0m\n\u001B[1;32m-> 1264\u001B[1;33m       \u001B[1;32mreturn\u001B[0m \u001B[0mself\u001B[0m\u001B[1;33m.\u001B[0m\u001B[0m_inference_function\u001B[0m\u001B[1;33m.\u001B[0m\u001B[0mflat_call\u001B[0m\u001B[1;33m(\u001B[0m\u001B[0margs\u001B[0m\u001B[1;33m)\u001B[0m\u001B[1;33m\u001B[0m\u001B[1;33m\u001B[0m\u001B[0m\n\u001B[0m\u001B[0;32m   1265\u001B[0m     forward_backward = self._select_forward_and_backward_functions(\n\u001B[0;32m   1266\u001B[0m         \u001B[0margs\u001B[0m\u001B[1;33m,\u001B[0m\u001B[1;33m\u001B[0m\u001B[1;33m\u001B[0m\u001B[0m\n",
      "\u001B[1;32m~\\anaconda3\\lib\\site-packages\\tensorflow\\python\\eager\\polymorphic_function\\atomic_function.py\u001B[0m in \u001B[0;36mflat_call\u001B[1;34m(self, args)\u001B[0m\n\u001B[0;32m    215\u001B[0m   \u001B[1;32mdef\u001B[0m \u001B[0mflat_call\u001B[0m\u001B[1;33m(\u001B[0m\u001B[0mself\u001B[0m\u001B[1;33m,\u001B[0m \u001B[0margs\u001B[0m\u001B[1;33m:\u001B[0m \u001B[0mSequence\u001B[0m\u001B[1;33m[\u001B[0m\u001B[0mcore\u001B[0m\u001B[1;33m.\u001B[0m\u001B[0mTensor\u001B[0m\u001B[1;33m]\u001B[0m\u001B[1;33m)\u001B[0m \u001B[1;33m->\u001B[0m \u001B[0mAny\u001B[0m\u001B[1;33m:\u001B[0m\u001B[1;33m\u001B[0m\u001B[1;33m\u001B[0m\u001B[0m\n\u001B[0;32m    216\u001B[0m     \u001B[1;34m\"\"\"Calls with tensor inputs and returns the structured output.\"\"\"\u001B[0m\u001B[1;33m\u001B[0m\u001B[1;33m\u001B[0m\u001B[0m\n\u001B[1;32m--> 217\u001B[1;33m     \u001B[0mflat_outputs\u001B[0m \u001B[1;33m=\u001B[0m \u001B[0mself\u001B[0m\u001B[1;33m(\u001B[0m\u001B[1;33m*\u001B[0m\u001B[0margs\u001B[0m\u001B[1;33m)\u001B[0m\u001B[1;33m\u001B[0m\u001B[1;33m\u001B[0m\u001B[0m\n\u001B[0m\u001B[0;32m    218\u001B[0m     \u001B[1;32mreturn\u001B[0m \u001B[0mself\u001B[0m\u001B[1;33m.\u001B[0m\u001B[0mfunction_type\u001B[0m\u001B[1;33m.\u001B[0m\u001B[0mpack_output\u001B[0m\u001B[1;33m(\u001B[0m\u001B[0mflat_outputs\u001B[0m\u001B[1;33m)\u001B[0m\u001B[1;33m\u001B[0m\u001B[1;33m\u001B[0m\u001B[0m\n\u001B[0;32m    219\u001B[0m \u001B[1;33m\u001B[0m\u001B[0m\n",
      "\u001B[1;32m~\\anaconda3\\lib\\site-packages\\tensorflow\\python\\eager\\polymorphic_function\\atomic_function.py\u001B[0m in \u001B[0;36m__call__\u001B[1;34m(self, *args)\u001B[0m\n\u001B[0;32m    250\u001B[0m         \u001B[1;32mwith\u001B[0m \u001B[0mrecord\u001B[0m\u001B[1;33m.\u001B[0m\u001B[0mstop_recording\u001B[0m\u001B[1;33m(\u001B[0m\u001B[1;33m)\u001B[0m\u001B[1;33m:\u001B[0m\u001B[1;33m\u001B[0m\u001B[1;33m\u001B[0m\u001B[0m\n\u001B[0;32m    251\u001B[0m           \u001B[1;32mif\u001B[0m \u001B[0mself\u001B[0m\u001B[1;33m.\u001B[0m\u001B[0m_bound_context\u001B[0m\u001B[1;33m.\u001B[0m\u001B[0mexecuting_eagerly\u001B[0m\u001B[1;33m(\u001B[0m\u001B[1;33m)\u001B[0m\u001B[1;33m:\u001B[0m\u001B[1;33m\u001B[0m\u001B[1;33m\u001B[0m\u001B[0m\n\u001B[1;32m--> 252\u001B[1;33m             outputs = self._bound_context.call_function(\n\u001B[0m\u001B[0;32m    253\u001B[0m                 \u001B[0mself\u001B[0m\u001B[1;33m.\u001B[0m\u001B[0mname\u001B[0m\u001B[1;33m,\u001B[0m\u001B[1;33m\u001B[0m\u001B[1;33m\u001B[0m\u001B[0m\n\u001B[0;32m    254\u001B[0m                 \u001B[0mlist\u001B[0m\u001B[1;33m(\u001B[0m\u001B[0margs\u001B[0m\u001B[1;33m)\u001B[0m\u001B[1;33m,\u001B[0m\u001B[1;33m\u001B[0m\u001B[1;33m\u001B[0m\u001B[0m\n",
      "\u001B[1;32m~\\anaconda3\\lib\\site-packages\\tensorflow\\python\\eager\\context.py\u001B[0m in \u001B[0;36mcall_function\u001B[1;34m(self, name, tensor_inputs, num_outputs)\u001B[0m\n\u001B[0;32m   1477\u001B[0m     \u001B[0mcancellation_context\u001B[0m \u001B[1;33m=\u001B[0m \u001B[0mcancellation\u001B[0m\u001B[1;33m.\u001B[0m\u001B[0mcontext\u001B[0m\u001B[1;33m(\u001B[0m\u001B[1;33m)\u001B[0m\u001B[1;33m\u001B[0m\u001B[1;33m\u001B[0m\u001B[0m\n\u001B[0;32m   1478\u001B[0m     \u001B[1;32mif\u001B[0m \u001B[0mcancellation_context\u001B[0m \u001B[1;32mis\u001B[0m \u001B[1;32mNone\u001B[0m\u001B[1;33m:\u001B[0m\u001B[1;33m\u001B[0m\u001B[1;33m\u001B[0m\u001B[0m\n\u001B[1;32m-> 1479\u001B[1;33m       outputs = execute.execute(\n\u001B[0m\u001B[0;32m   1480\u001B[0m           \u001B[0mname\u001B[0m\u001B[1;33m.\u001B[0m\u001B[0mdecode\u001B[0m\u001B[1;33m(\u001B[0m\u001B[1;34m\"utf-8\"\u001B[0m\u001B[1;33m)\u001B[0m\u001B[1;33m,\u001B[0m\u001B[1;33m\u001B[0m\u001B[1;33m\u001B[0m\u001B[0m\n\u001B[0;32m   1481\u001B[0m           \u001B[0mnum_outputs\u001B[0m\u001B[1;33m=\u001B[0m\u001B[0mnum_outputs\u001B[0m\u001B[1;33m,\u001B[0m\u001B[1;33m\u001B[0m\u001B[1;33m\u001B[0m\u001B[0m\n",
      "\u001B[1;32m~\\anaconda3\\lib\\site-packages\\tensorflow\\python\\eager\\execute.py\u001B[0m in \u001B[0;36mquick_execute\u001B[1;34m(op_name, num_outputs, inputs, attrs, ctx, name)\u001B[0m\n\u001B[0;32m     58\u001B[0m         \u001B[1;32mfor\u001B[0m \u001B[0mt\u001B[0m \u001B[1;32min\u001B[0m \u001B[0minputs\u001B[0m\u001B[1;33m\u001B[0m\u001B[1;33m\u001B[0m\u001B[0m\n\u001B[0;32m     59\u001B[0m     ]\n\u001B[1;32m---> 60\u001B[1;33m     tensors = pywrap_tfe.TFE_Py_Execute(ctx._handle, device_name, op_name,\n\u001B[0m\u001B[0;32m     61\u001B[0m                                         inputs, attrs, num_outputs)\n\u001B[0;32m     62\u001B[0m   \u001B[1;32mexcept\u001B[0m \u001B[0mcore\u001B[0m\u001B[1;33m.\u001B[0m\u001B[0m_NotOkStatusException\u001B[0m \u001B[1;32mas\u001B[0m \u001B[0me\u001B[0m\u001B[1;33m:\u001B[0m\u001B[1;33m\u001B[0m\u001B[1;33m\u001B[0m\u001B[0m\n",
      "\u001B[1;31mKeyboardInterrupt\u001B[0m: "
     ]
    }
   ],
   "source": [
    "# Entraînement du modèle\n",
    "history = model.fit(X_train_final2, y_train_onehot, epochs=10, batch_size=64, validation_split=0.2, callbacks=[cb_sauvegarde, cb_earlystopping])"
   ]
  },
  {
   "cell_type": "markdown",
   "metadata": {},
   "source": [
    "<br>\n",
    "\n",
    "**Exercice**\n",
    "\n",
    "Représenter sur un graphe l'évolution de la fonciton de coût et du score du modèle au cours de l'entraînement.\n",
    "\n",
    "<br>"
   ]
  },
  {
   "cell_type": "code",
   "execution_count": 103,
   "metadata": {
    "ExecuteTime": {
     "end_time": "2023-10-13T14:44:01.291719700Z",
     "start_time": "2023-10-13T14:44:01.129336500Z"
    }
   },
   "outputs": [
    {
     "data": {
      "text/plain": "<Figure size 640x480 with 1 Axes>",
      "image/png": "[encoded data removed]"
     },
     "metadata": {},
     "output_type": "display_data"
    }
   ],
   "source": [
    "plt.plot(history.history['loss'], label='train loss')\n",
    "plt.plot(history.history['val_loss'], label='validation loss')\n",
    "plt.legend()\n",
    "plt.show()"
   ]
  },
  {
   "cell_type": "markdown",
   "metadata": {},
   "source": [
    "<br>\n",
    "\n",
    "**Exercice**\n",
    "\n",
    "Optimiser le modèle (en particulier le taux d'apprentissage) puis calculer la performance prédictive que l'on peut en attendre.\n",
    "\n",
    "<br>"
   ]
  },
  {
   "cell_type": "code",
   "execution_count": null,
   "metadata": {},
   "outputs": [],
   "source": []
  },
  {
   "cell_type": "markdown",
   "metadata": {},
   "source": [
    "<br>\n",
    "\n",
    "## Compléments\n",
    "\n",
    "<br>\n",
    "\n",
    "- Etudiez comment varie la vitesse de convergence de l'algorithme en fonction de la taille des mini-lots utilisés. \n",
    "\n",
    "- A l'aide de la documentation de keras, vous pouvez ajouter dans votre réseau des couches de *dropout* ou des couches de renormalisation par lot (*batch normalization*) afin d'étudier comment ces couches supplémentaires peuvent affecter l'entraînement du réseau et ses performances.\n",
    "\n",
    "<br>\n"
   ]
  },
  {
   "cell_type": "code",
   "execution_count": null,
   "metadata": {},
   "outputs": [],
   "source": []
  }
 ],
 "metadata": {
  "hide_input": false,
  "kernelspec": {
   "display_name": "Python 3 (ipykernel)",
   "language": "python",
   "name": "python3"
  },
  "language_info": {
   "codemirror_mode": {
    "name": "ipython",
    "version": 3
   },
   "file_extension": ".py",
   "mimetype": "text/x-python",
   "name": "python",
   "nbconvert_exporter": "python",
   "pygments_lexer": "ipython3",
   "version": "3.11.4"
  },
  "latex_envs": {
   "LaTeX_envs_menu_present": true,
   "autoclose": false,
   "autocomplete": true,
   "bibliofile": "biblio.bib",
   "cite_by": "apalike",
   "current_citInitial": 1,
   "eqLabelWithNumbers": true,
   "eqNumInitial": 1,
   "hotkeys": {
    "equation": "Ctrl-E",
    "itemize": "Ctrl-I"
   },
   "labels_anchors": false,
   "latex_user_defs": false,
   "report_style_numbering": false,
   "user_envs_cfg": false
  },
  "toc": {
   "base_numbering": 1,
   "nav_menu": {},
   "number_sections": true,
   "sideBar": false,
   "skip_h1_title": true,
   "title_cell": "Table of Contents",
   "title_sidebar": "Contents",
   "toc_cell": true,
   "toc_position": {},
   "toc_section_display": false,
   "toc_window_display": true
  }
 },
 "nbformat": 4,
 "nbformat_minor": 4
}
